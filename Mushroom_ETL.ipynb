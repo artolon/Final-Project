{
 "cells": [
  {
   "cell_type": "markdown",
   "id": "dbf590b4",
   "metadata": {},
   "source": [
    "## Mushrooom ETL\n",
    "\n",
    "#### Here we take raw mushroom data and build a data model to build s database in PostgreSQL\n",
    "#### We will then query the data to extract some information"
   ]
  },
  {
   "cell_type": "code",
   "execution_count": 149,
   "id": "67495b55",
   "metadata": {},
   "outputs": [
    {
     "data": {
      "text/html": [
       "<div>\n",
       "<style scoped>\n",
       "    .dataframe tbody tr th:only-of-type {\n",
       "        vertical-align: middle;\n",
       "    }\n",
       "\n",
       "    .dataframe tbody tr th {\n",
       "        vertical-align: top;\n",
       "    }\n",
       "\n",
       "    .dataframe thead th {\n",
       "        text-align: right;\n",
       "    }\n",
       "</style>\n",
       "<table border=\"1\" class=\"dataframe\">\n",
       "  <thead>\n",
       "    <tr style=\"text-align: right;\">\n",
       "      <th></th>\n",
       "      <th>class</th>\n",
       "      <th>cap-shape</th>\n",
       "      <th>cap-surface</th>\n",
       "      <th>cap-color</th>\n",
       "      <th>bruises</th>\n",
       "      <th>odor</th>\n",
       "      <th>gill-attachment</th>\n",
       "      <th>gill-spacing</th>\n",
       "      <th>gill-size</th>\n",
       "      <th>gill-color</th>\n",
       "      <th>...</th>\n",
       "      <th>stalk-surface-below-ring</th>\n",
       "      <th>stalk-color-above-ring</th>\n",
       "      <th>stalk-color-below-ring</th>\n",
       "      <th>veil-type</th>\n",
       "      <th>veil-color</th>\n",
       "      <th>ring-number</th>\n",
       "      <th>ring-type</th>\n",
       "      <th>spore-print-color</th>\n",
       "      <th>population</th>\n",
       "      <th>habitat</th>\n",
       "    </tr>\n",
       "  </thead>\n",
       "  <tbody>\n",
       "    <tr>\n",
       "      <th>0</th>\n",
       "      <td>p</td>\n",
       "      <td>x</td>\n",
       "      <td>s</td>\n",
       "      <td>n</td>\n",
       "      <td>t</td>\n",
       "      <td>p</td>\n",
       "      <td>f</td>\n",
       "      <td>c</td>\n",
       "      <td>n</td>\n",
       "      <td>k</td>\n",
       "      <td>...</td>\n",
       "      <td>s</td>\n",
       "      <td>w</td>\n",
       "      <td>w</td>\n",
       "      <td>p</td>\n",
       "      <td>w</td>\n",
       "      <td>o</td>\n",
       "      <td>p</td>\n",
       "      <td>k</td>\n",
       "      <td>s</td>\n",
       "      <td>u</td>\n",
       "    </tr>\n",
       "    <tr>\n",
       "      <th>1</th>\n",
       "      <td>e</td>\n",
       "      <td>x</td>\n",
       "      <td>s</td>\n",
       "      <td>y</td>\n",
       "      <td>t</td>\n",
       "      <td>a</td>\n",
       "      <td>f</td>\n",
       "      <td>c</td>\n",
       "      <td>b</td>\n",
       "      <td>k</td>\n",
       "      <td>...</td>\n",
       "      <td>s</td>\n",
       "      <td>w</td>\n",
       "      <td>w</td>\n",
       "      <td>p</td>\n",
       "      <td>w</td>\n",
       "      <td>o</td>\n",
       "      <td>p</td>\n",
       "      <td>n</td>\n",
       "      <td>n</td>\n",
       "      <td>g</td>\n",
       "    </tr>\n",
       "    <tr>\n",
       "      <th>2</th>\n",
       "      <td>e</td>\n",
       "      <td>b</td>\n",
       "      <td>s</td>\n",
       "      <td>w</td>\n",
       "      <td>t</td>\n",
       "      <td>l</td>\n",
       "      <td>f</td>\n",
       "      <td>c</td>\n",
       "      <td>b</td>\n",
       "      <td>n</td>\n",
       "      <td>...</td>\n",
       "      <td>s</td>\n",
       "      <td>w</td>\n",
       "      <td>w</td>\n",
       "      <td>p</td>\n",
       "      <td>w</td>\n",
       "      <td>o</td>\n",
       "      <td>p</td>\n",
       "      <td>n</td>\n",
       "      <td>n</td>\n",
       "      <td>m</td>\n",
       "    </tr>\n",
       "    <tr>\n",
       "      <th>3</th>\n",
       "      <td>p</td>\n",
       "      <td>x</td>\n",
       "      <td>y</td>\n",
       "      <td>w</td>\n",
       "      <td>t</td>\n",
       "      <td>p</td>\n",
       "      <td>f</td>\n",
       "      <td>c</td>\n",
       "      <td>n</td>\n",
       "      <td>n</td>\n",
       "      <td>...</td>\n",
       "      <td>s</td>\n",
       "      <td>w</td>\n",
       "      <td>w</td>\n",
       "      <td>p</td>\n",
       "      <td>w</td>\n",
       "      <td>o</td>\n",
       "      <td>p</td>\n",
       "      <td>k</td>\n",
       "      <td>s</td>\n",
       "      <td>u</td>\n",
       "    </tr>\n",
       "    <tr>\n",
       "      <th>4</th>\n",
       "      <td>e</td>\n",
       "      <td>x</td>\n",
       "      <td>s</td>\n",
       "      <td>g</td>\n",
       "      <td>f</td>\n",
       "      <td>n</td>\n",
       "      <td>f</td>\n",
       "      <td>w</td>\n",
       "      <td>b</td>\n",
       "      <td>k</td>\n",
       "      <td>...</td>\n",
       "      <td>s</td>\n",
       "      <td>w</td>\n",
       "      <td>w</td>\n",
       "      <td>p</td>\n",
       "      <td>w</td>\n",
       "      <td>o</td>\n",
       "      <td>e</td>\n",
       "      <td>n</td>\n",
       "      <td>a</td>\n",
       "      <td>g</td>\n",
       "    </tr>\n",
       "  </tbody>\n",
       "</table>\n",
       "<p>5 rows × 23 columns</p>\n",
       "</div>"
      ],
      "text/plain": [
       "  class cap-shape cap-surface cap-color bruises odor gill-attachment  \\\n",
       "0     p         x           s         n       t    p               f   \n",
       "1     e         x           s         y       t    a               f   \n",
       "2     e         b           s         w       t    l               f   \n",
       "3     p         x           y         w       t    p               f   \n",
       "4     e         x           s         g       f    n               f   \n",
       "\n",
       "  gill-spacing gill-size gill-color  ... stalk-surface-below-ring  \\\n",
       "0            c         n          k  ...                        s   \n",
       "1            c         b          k  ...                        s   \n",
       "2            c         b          n  ...                        s   \n",
       "3            c         n          n  ...                        s   \n",
       "4            w         b          k  ...                        s   \n",
       "\n",
       "  stalk-color-above-ring stalk-color-below-ring veil-type veil-color  \\\n",
       "0                      w                      w         p          w   \n",
       "1                      w                      w         p          w   \n",
       "2                      w                      w         p          w   \n",
       "3                      w                      w         p          w   \n",
       "4                      w                      w         p          w   \n",
       "\n",
       "  ring-number ring-type spore-print-color population habitat  \n",
       "0           o         p                 k          s       u  \n",
       "1           o         p                 n          n       g  \n",
       "2           o         p                 n          n       m  \n",
       "3           o         p                 k          s       u  \n",
       "4           o         e                 n          a       g  \n",
       "\n",
       "[5 rows x 23 columns]"
      ]
     },
     "execution_count": 149,
     "metadata": {},
     "output_type": "execute_result"
    }
   ],
   "source": [
    "# Loading basic packages to load csv data file and explore it\n",
    "import pandas as pd\n",
    "import numpy as np\n",
    "\n",
    "mushroom_data = pd.read_csv(\"1987_data.csv\")\n",
    "mushroom_data.head()"
   ]
  },
  {
   "cell_type": "code",
   "execution_count": 150,
   "id": "703316b4",
   "metadata": {},
   "outputs": [
    {
     "data": {
      "text/plain": [
       "(8124, 23)"
      ]
     },
     "metadata": {},
     "output_type": "display_data"
    },
    {
     "data": {
      "text/plain": [
       "Index(['class', 'cap-shape', 'cap-surface', 'cap-color', 'bruises', 'odor',\n",
       "       'gill-attachment', 'gill-spacing', 'gill-size', 'gill-color',\n",
       "       'stalk-shape', 'stalk-root', 'stalk-surface-above-ring',\n",
       "       'stalk-surface-below-ring', 'stalk-color-above-ring',\n",
       "       'stalk-color-below-ring', 'veil-type', 'veil-color', 'ring-number',\n",
       "       'ring-type', 'spore-print-color', 'population', 'habitat'],\n",
       "      dtype='object')"
      ]
     },
     "metadata": {},
     "output_type": "display_data"
    }
   ],
   "source": [
    "# Checking for shape of the dataframe loaded and the features. \n",
    "display(mushroom_data.shape)\n",
    "display(mushroom_data.columns)"
   ]
  },
  {
   "attachments": {
    "mushroom%20data%20model%20%281%29.png": {
     "image/png": "[encoded data removed]"
    }
   },
   "cell_type": "markdown",
   "id": "9f20f636",
   "metadata": {},
   "source": [
    "#### Observations:\n",
    "* There are 8124 unique entries for mushrooms\n",
    "* Mushrooms are classifies ad Poisonous or Edible\n",
    "* There are 22 features for each unique entries \n",
    "#### Next Steps:\n",
    "* As we explored the data in depth in our Exploratory Data Analysis we determined to build the data model with the following tables:\n",
    "    * Main Mushroom Data with unique mushroom_ids\n",
    "    * A table each for gill, cap, veil and stalk features\n",
    "\n",
    "\n",
    "#### Below is the final data model we build:\n",
    "\n",
    "![mushroom%20data%20model%20%281%29.png](attachment:mushroom%20data%20model%20%281%29.png)\n",
    "\n",
    "##### Need to first do a step of preprocessing the column name. Where we replace hyphen with underscore, as postgresql doesn't sllow hyphen in column names of table"
   ]
  },
  {
   "cell_type": "code",
   "execution_count": 151,
   "id": "fd87e617",
   "metadata": {},
   "outputs": [
    {
     "data": {
      "text/plain": [
       "Index(['class', 'cap_shape', 'cap_surface', 'cap_color', 'bruises', 'odor',\n",
       "       'gill_attachment', 'gill_spacing', 'gill_size', 'gill_color',\n",
       "       'stalk_shape', 'stalk_root', 'stalk_surface_above_ring',\n",
       "       'stalk_surface_below_ring', 'stalk_color_above_ring',\n",
       "       'stalk_color_below_ring', 'veil_type', 'veil_color', 'ring_number',\n",
       "       'ring_type', 'spore_print_color', 'population', 'habitat'],\n",
       "      dtype='object')"
      ]
     },
     "execution_count": 151,
     "metadata": {},
     "output_type": "execute_result"
    }
   ],
   "source": [
    "\n",
    "mushroom_data.columns = mushroom_data.columns.str.replace('-','_')\n",
    "mushroom_data.columns"
   ]
  },
  {
   "cell_type": "code",
   "execution_count": 154,
   "id": "050ab3c8",
   "metadata": {},
   "outputs": [],
   "source": [
    "# Creating seperate dataframes for Gill, cap, veil and stalk features\n",
    "\n",
    "# Will drop duplicates and the create a unique id for each dataframe\n",
    "\n",
    "mushroom = mushroom_data[['class','bruises', 'odor','spore_print_color','population', 'habitat']]\n",
    "gill_features = mushroom_data[['gill_attachment', 'gill_spacing', 'gill_size', 'gill_color']]\n",
    "cap_features = mushroom_data[['cap_shape', 'cap_surface', 'cap_color']]\n",
    "veil_features = mushroom_data[['veil_type', 'veil_color', 'ring_number', 'ring_type']]\n",
    "stalk_features = mushroom_data[['stalk_shape', 'stalk_root', 'stalk_surface_above_ring',\n",
    "       'stalk_surface_below_ring', 'stalk_color_above_ring',\n",
    "       'stalk_color_below_ring']]\n"
   ]
  },
  {
   "cell_type": "code",
   "execution_count": 155,
   "id": "310f9f3f",
   "metadata": {},
   "outputs": [],
   "source": [
    "# We have created seperate dataframes for the table. Now need to create the unique IDs for each of them.\n",
    "\n",
    "# Defining a function to create a unique identifier\n",
    "\n",
    "def create_uid(df):\n",
    "    ID = df.sum(axis=1)\n",
    "    return ID"
   ]
  },
  {
   "cell_type": "code",
   "execution_count": 156,
   "id": "3ad7165f",
   "metadata": {},
   "outputs": [],
   "source": [
    "# ignoring Warning for chained assignments\n",
    "import warnings\n",
    "from pandas.core.common import SettingWithCopyWarning\n",
    "\n",
    "warnings.simplefilter(action=\"ignore\", category=SettingWithCopyWarning)\n",
    "\n",
    "# Calling function to create Uids for each table\n",
    "\n",
    "mushroom['mushroom_ID'] = mushroom_data['mushroom_ID'] = create_uid(mushroom_data)\n",
    "mushroom['gillID'] = gill_features['gillID'] = create_uid(gill_features)\n",
    "mushroom['capID'] = cap_features['capID'] = create_uid(cap_features)\n",
    "mushroom['veilID'] = veil_features['veilID'] = create_uid(veil_features)\n",
    "mushroom['stalkID'] = stalk_features['stalkID'] = create_uid(stalk_features)"
   ]
  },
  {
   "cell_type": "code",
   "execution_count": 157,
   "id": "9773ffb1",
   "metadata": {},
   "outputs": [
    {
     "data": {
      "text/html": [
       "<div>\n",
       "<style scoped>\n",
       "    .dataframe tbody tr th:only-of-type {\n",
       "        vertical-align: middle;\n",
       "    }\n",
       "\n",
       "    .dataframe tbody tr th {\n",
       "        vertical-align: top;\n",
       "    }\n",
       "\n",
       "    .dataframe thead th {\n",
       "        text-align: right;\n",
       "    }\n",
       "</style>\n",
       "<table border=\"1\" class=\"dataframe\">\n",
       "  <thead>\n",
       "    <tr style=\"text-align: right;\">\n",
       "      <th></th>\n",
       "      <th>class</th>\n",
       "      <th>cap_shape</th>\n",
       "      <th>cap_surface</th>\n",
       "      <th>cap_color</th>\n",
       "      <th>bruises</th>\n",
       "      <th>odor</th>\n",
       "      <th>gill_attachment</th>\n",
       "      <th>gill_spacing</th>\n",
       "      <th>gill_size</th>\n",
       "      <th>gill_color</th>\n",
       "      <th>...</th>\n",
       "      <th>stalk_color_above_ring</th>\n",
       "      <th>stalk_color_below_ring</th>\n",
       "      <th>veil_type</th>\n",
       "      <th>veil_color</th>\n",
       "      <th>ring_number</th>\n",
       "      <th>ring_type</th>\n",
       "      <th>spore_print_color</th>\n",
       "      <th>population</th>\n",
       "      <th>habitat</th>\n",
       "      <th>mushroom_ID</th>\n",
       "    </tr>\n",
       "  </thead>\n",
       "  <tbody>\n",
       "    <tr>\n",
       "      <th>0</th>\n",
       "      <td>p</td>\n",
       "      <td>x</td>\n",
       "      <td>s</td>\n",
       "      <td>n</td>\n",
       "      <td>t</td>\n",
       "      <td>p</td>\n",
       "      <td>f</td>\n",
       "      <td>c</td>\n",
       "      <td>n</td>\n",
       "      <td>k</td>\n",
       "      <td>...</td>\n",
       "      <td>w</td>\n",
       "      <td>w</td>\n",
       "      <td>p</td>\n",
       "      <td>w</td>\n",
       "      <td>o</td>\n",
       "      <td>p</td>\n",
       "      <td>k</td>\n",
       "      <td>s</td>\n",
       "      <td>u</td>\n",
       "      <td>pxsntpfcnkeesswwpwopksu</td>\n",
       "    </tr>\n",
       "    <tr>\n",
       "      <th>1</th>\n",
       "      <td>e</td>\n",
       "      <td>x</td>\n",
       "      <td>s</td>\n",
       "      <td>y</td>\n",
       "      <td>t</td>\n",
       "      <td>a</td>\n",
       "      <td>f</td>\n",
       "      <td>c</td>\n",
       "      <td>b</td>\n",
       "      <td>k</td>\n",
       "      <td>...</td>\n",
       "      <td>w</td>\n",
       "      <td>w</td>\n",
       "      <td>p</td>\n",
       "      <td>w</td>\n",
       "      <td>o</td>\n",
       "      <td>p</td>\n",
       "      <td>n</td>\n",
       "      <td>n</td>\n",
       "      <td>g</td>\n",
       "      <td>exsytafcbkecsswwpwopnng</td>\n",
       "    </tr>\n",
       "    <tr>\n",
       "      <th>2</th>\n",
       "      <td>e</td>\n",
       "      <td>b</td>\n",
       "      <td>s</td>\n",
       "      <td>w</td>\n",
       "      <td>t</td>\n",
       "      <td>l</td>\n",
       "      <td>f</td>\n",
       "      <td>c</td>\n",
       "      <td>b</td>\n",
       "      <td>n</td>\n",
       "      <td>...</td>\n",
       "      <td>w</td>\n",
       "      <td>w</td>\n",
       "      <td>p</td>\n",
       "      <td>w</td>\n",
       "      <td>o</td>\n",
       "      <td>p</td>\n",
       "      <td>n</td>\n",
       "      <td>n</td>\n",
       "      <td>m</td>\n",
       "      <td>ebswtlfcbnecsswwpwopnnm</td>\n",
       "    </tr>\n",
       "    <tr>\n",
       "      <th>3</th>\n",
       "      <td>p</td>\n",
       "      <td>x</td>\n",
       "      <td>y</td>\n",
       "      <td>w</td>\n",
       "      <td>t</td>\n",
       "      <td>p</td>\n",
       "      <td>f</td>\n",
       "      <td>c</td>\n",
       "      <td>n</td>\n",
       "      <td>n</td>\n",
       "      <td>...</td>\n",
       "      <td>w</td>\n",
       "      <td>w</td>\n",
       "      <td>p</td>\n",
       "      <td>w</td>\n",
       "      <td>o</td>\n",
       "      <td>p</td>\n",
       "      <td>k</td>\n",
       "      <td>s</td>\n",
       "      <td>u</td>\n",
       "      <td>pxywtpfcnneesswwpwopksu</td>\n",
       "    </tr>\n",
       "    <tr>\n",
       "      <th>4</th>\n",
       "      <td>e</td>\n",
       "      <td>x</td>\n",
       "      <td>s</td>\n",
       "      <td>g</td>\n",
       "      <td>f</td>\n",
       "      <td>n</td>\n",
       "      <td>f</td>\n",
       "      <td>w</td>\n",
       "      <td>b</td>\n",
       "      <td>k</td>\n",
       "      <td>...</td>\n",
       "      <td>w</td>\n",
       "      <td>w</td>\n",
       "      <td>p</td>\n",
       "      <td>w</td>\n",
       "      <td>o</td>\n",
       "      <td>e</td>\n",
       "      <td>n</td>\n",
       "      <td>a</td>\n",
       "      <td>g</td>\n",
       "      <td>exsgfnfwbktesswwpwoenag</td>\n",
       "    </tr>\n",
       "    <tr>\n",
       "      <th>...</th>\n",
       "      <td>...</td>\n",
       "      <td>...</td>\n",
       "      <td>...</td>\n",
       "      <td>...</td>\n",
       "      <td>...</td>\n",
       "      <td>...</td>\n",
       "      <td>...</td>\n",
       "      <td>...</td>\n",
       "      <td>...</td>\n",
       "      <td>...</td>\n",
       "      <td>...</td>\n",
       "      <td>...</td>\n",
       "      <td>...</td>\n",
       "      <td>...</td>\n",
       "      <td>...</td>\n",
       "      <td>...</td>\n",
       "      <td>...</td>\n",
       "      <td>...</td>\n",
       "      <td>...</td>\n",
       "      <td>...</td>\n",
       "      <td>...</td>\n",
       "    </tr>\n",
       "    <tr>\n",
       "      <th>8119</th>\n",
       "      <td>e</td>\n",
       "      <td>k</td>\n",
       "      <td>s</td>\n",
       "      <td>n</td>\n",
       "      <td>f</td>\n",
       "      <td>n</td>\n",
       "      <td>a</td>\n",
       "      <td>c</td>\n",
       "      <td>b</td>\n",
       "      <td>y</td>\n",
       "      <td>...</td>\n",
       "      <td>o</td>\n",
       "      <td>o</td>\n",
       "      <td>p</td>\n",
       "      <td>o</td>\n",
       "      <td>o</td>\n",
       "      <td>p</td>\n",
       "      <td>b</td>\n",
       "      <td>c</td>\n",
       "      <td>l</td>\n",
       "      <td>eksnfnacbye?ssoopoopbcl</td>\n",
       "    </tr>\n",
       "    <tr>\n",
       "      <th>8120</th>\n",
       "      <td>e</td>\n",
       "      <td>x</td>\n",
       "      <td>s</td>\n",
       "      <td>n</td>\n",
       "      <td>f</td>\n",
       "      <td>n</td>\n",
       "      <td>a</td>\n",
       "      <td>c</td>\n",
       "      <td>b</td>\n",
       "      <td>y</td>\n",
       "      <td>...</td>\n",
       "      <td>o</td>\n",
       "      <td>o</td>\n",
       "      <td>p</td>\n",
       "      <td>n</td>\n",
       "      <td>o</td>\n",
       "      <td>p</td>\n",
       "      <td>b</td>\n",
       "      <td>v</td>\n",
       "      <td>l</td>\n",
       "      <td>exsnfnacbye?ssoopnopbvl</td>\n",
       "    </tr>\n",
       "    <tr>\n",
       "      <th>8121</th>\n",
       "      <td>e</td>\n",
       "      <td>f</td>\n",
       "      <td>s</td>\n",
       "      <td>n</td>\n",
       "      <td>f</td>\n",
       "      <td>n</td>\n",
       "      <td>a</td>\n",
       "      <td>c</td>\n",
       "      <td>b</td>\n",
       "      <td>n</td>\n",
       "      <td>...</td>\n",
       "      <td>o</td>\n",
       "      <td>o</td>\n",
       "      <td>p</td>\n",
       "      <td>o</td>\n",
       "      <td>o</td>\n",
       "      <td>p</td>\n",
       "      <td>b</td>\n",
       "      <td>c</td>\n",
       "      <td>l</td>\n",
       "      <td>efsnfnacbne?ssoopoopbcl</td>\n",
       "    </tr>\n",
       "    <tr>\n",
       "      <th>8122</th>\n",
       "      <td>p</td>\n",
       "      <td>k</td>\n",
       "      <td>y</td>\n",
       "      <td>n</td>\n",
       "      <td>f</td>\n",
       "      <td>y</td>\n",
       "      <td>f</td>\n",
       "      <td>c</td>\n",
       "      <td>n</td>\n",
       "      <td>b</td>\n",
       "      <td>...</td>\n",
       "      <td>w</td>\n",
       "      <td>w</td>\n",
       "      <td>p</td>\n",
       "      <td>w</td>\n",
       "      <td>o</td>\n",
       "      <td>e</td>\n",
       "      <td>w</td>\n",
       "      <td>v</td>\n",
       "      <td>l</td>\n",
       "      <td>pkynfyfcnbt?skwwpwoewvl</td>\n",
       "    </tr>\n",
       "    <tr>\n",
       "      <th>8123</th>\n",
       "      <td>e</td>\n",
       "      <td>x</td>\n",
       "      <td>s</td>\n",
       "      <td>n</td>\n",
       "      <td>f</td>\n",
       "      <td>n</td>\n",
       "      <td>a</td>\n",
       "      <td>c</td>\n",
       "      <td>b</td>\n",
       "      <td>y</td>\n",
       "      <td>...</td>\n",
       "      <td>o</td>\n",
       "      <td>o</td>\n",
       "      <td>p</td>\n",
       "      <td>o</td>\n",
       "      <td>o</td>\n",
       "      <td>p</td>\n",
       "      <td>o</td>\n",
       "      <td>c</td>\n",
       "      <td>l</td>\n",
       "      <td>exsnfnacbye?ssoopoopocl</td>\n",
       "    </tr>\n",
       "  </tbody>\n",
       "</table>\n",
       "<p>8124 rows × 24 columns</p>\n",
       "</div>"
      ],
      "text/plain": [
       "     class cap_shape cap_surface cap_color bruises odor gill_attachment  \\\n",
       "0        p         x           s         n       t    p               f   \n",
       "1        e         x           s         y       t    a               f   \n",
       "2        e         b           s         w       t    l               f   \n",
       "3        p         x           y         w       t    p               f   \n",
       "4        e         x           s         g       f    n               f   \n",
       "...    ...       ...         ...       ...     ...  ...             ...   \n",
       "8119     e         k           s         n       f    n               a   \n",
       "8120     e         x           s         n       f    n               a   \n",
       "8121     e         f           s         n       f    n               a   \n",
       "8122     p         k           y         n       f    y               f   \n",
       "8123     e         x           s         n       f    n               a   \n",
       "\n",
       "     gill_spacing gill_size gill_color  ... stalk_color_above_ring  \\\n",
       "0               c         n          k  ...                      w   \n",
       "1               c         b          k  ...                      w   \n",
       "2               c         b          n  ...                      w   \n",
       "3               c         n          n  ...                      w   \n",
       "4               w         b          k  ...                      w   \n",
       "...           ...       ...        ...  ...                    ...   \n",
       "8119            c         b          y  ...                      o   \n",
       "8120            c         b          y  ...                      o   \n",
       "8121            c         b          n  ...                      o   \n",
       "8122            c         n          b  ...                      w   \n",
       "8123            c         b          y  ...                      o   \n",
       "\n",
       "     stalk_color_below_ring veil_type veil_color ring_number ring_type  \\\n",
       "0                         w         p          w           o         p   \n",
       "1                         w         p          w           o         p   \n",
       "2                         w         p          w           o         p   \n",
       "3                         w         p          w           o         p   \n",
       "4                         w         p          w           o         e   \n",
       "...                     ...       ...        ...         ...       ...   \n",
       "8119                      o         p          o           o         p   \n",
       "8120                      o         p          n           o         p   \n",
       "8121                      o         p          o           o         p   \n",
       "8122                      w         p          w           o         e   \n",
       "8123                      o         p          o           o         p   \n",
       "\n",
       "     spore_print_color population habitat              mushroom_ID  \n",
       "0                    k          s       u  pxsntpfcnkeesswwpwopksu  \n",
       "1                    n          n       g  exsytafcbkecsswwpwopnng  \n",
       "2                    n          n       m  ebswtlfcbnecsswwpwopnnm  \n",
       "3                    k          s       u  pxywtpfcnneesswwpwopksu  \n",
       "4                    n          a       g  exsgfnfwbktesswwpwoenag  \n",
       "...                ...        ...     ...                      ...  \n",
       "8119                 b          c       l  eksnfnacbye?ssoopoopbcl  \n",
       "8120                 b          v       l  exsnfnacbye?ssoopnopbvl  \n",
       "8121                 b          c       l  efsnfnacbne?ssoopoopbcl  \n",
       "8122                 w          v       l  pkynfyfcnbt?skwwpwoewvl  \n",
       "8123                 o          c       l  exsnfnacbye?ssoopoopocl  \n",
       "\n",
       "[8124 rows x 24 columns]"
      ]
     },
     "execution_count": 157,
     "metadata": {},
     "output_type": "execute_result"
    }
   ],
   "source": [
    "mushroom_data"
   ]
  },
  {
   "cell_type": "code",
   "execution_count": 158,
   "id": "828f8701",
   "metadata": {},
   "outputs": [
    {
     "data": {
      "text/plain": [
       "mushroom_ID    True\n",
       "dtype: bool"
      ]
     },
     "execution_count": 158,
     "metadata": {},
     "output_type": "execute_result"
    }
   ],
   "source": [
    "# Checking if the mushroom ID is created uniquely for each entry\n",
    "mushroom_data[['mushroom_ID']].nunique() == mushroom_data.shape[0]"
   ]
  },
  {
   "cell_type": "code",
   "execution_count": 159,
   "id": "d4d60882",
   "metadata": {},
   "outputs": [
    {
     "name": "stdout",
     "output_type": "stream",
     "text": [
      "Final shape for 'gill_features' (34, 5)\n",
      "Final shape for 'cap_features' (90, 4)\n",
      "Final shape for 'veil_features' (10, 5)\n",
      "Final shape for 'stalk_features' (63, 7)\n"
     ]
    }
   ],
   "source": [
    "gill_features = gill_features.drop_duplicates(keep='first')\n",
    "cap_features = cap_features.drop_duplicates(keep='first')\n",
    "veil_features = veil_features.drop_duplicates(keep='first')\n",
    "stalk_features = stalk_features.drop_duplicates(keep='first')\n",
    "\n",
    "print(\"Final shape for 'gill_features'\",gill_features.shape)\n",
    "print(\"Final shape for 'cap_features'\",cap_features.shape)\n",
    "print(\"Final shape for 'veil_features'\",veil_features.shape)\n",
    "print(\"Final shape for 'stalk_features'\",stalk_features.shape)"
   ]
  },
  {
   "cell_type": "code",
   "execution_count": null,
   "id": "1249aacd",
   "metadata": {},
   "outputs": [],
   "source": []
  },
  {
   "cell_type": "code",
   "execution_count": 160,
   "id": "ab5410dd",
   "metadata": {},
   "outputs": [],
   "source": [
    "# Creating CSVs for each dataframe to help with loading into database\n",
    "\n",
    "mushroom.to_csv(\"mushroom.csv\", index=False)\n",
    "gill_features.to_csv(\"gill_features.csv\", index=False)\n",
    "cap_features.to_csv(\"cap_features.csv\", index=False)\n",
    "veil_features.to_csv(\"veil_features.csv\", index=False)\n",
    "stalk_features.to_csv(\"stalk_features.csv\", index=False)"
   ]
  },
  {
   "cell_type": "markdown",
   "id": "dbf829a9",
   "metadata": {},
   "source": [
    "#### Creating database in PostgreSQL"
   ]
  },
  {
   "cell_type": "code",
   "execution_count": 121,
   "id": "b4e456a5",
   "metadata": {},
   "outputs": [
    {
     "name": "stdout",
     "output_type": "stream",
     "text": [
      "Database created successfully........\n"
     ]
    }
   ],
   "source": [
    "import psycopg2\n",
    "\n",
    "from passwords import password\n",
    "\n",
    "conn = psycopg2.connect(host='localhost', dbname='postgres', user='postgres', password=password)\n",
    "\n",
    "conn.autocommit = True\n",
    "\n",
    "cursor = conn.cursor()\n",
    "\n",
    "#Preparing query to create a database\n",
    "sql = '''CREATE database mushroom_data''';\n",
    "\n",
    "#Creating a database\n",
    "cursor.execute(sql)\n",
    "print(\"Database created successfully........\")\n",
    "\n",
    "#Closing the connection\n",
    "conn.close()"
   ]
  },
  {
   "cell_type": "markdown",
   "id": "2f8aa6c4",
   "metadata": {},
   "source": [
    "#### Creating table 'mushroom' and loading the data"
   ]
  },
  {
   "cell_type": "code",
   "execution_count": 144,
   "id": "11f793c9",
   "metadata": {},
   "outputs": [
    {
     "name": "stdout",
     "output_type": "stream",
     "text": [
      "Table created\n"
     ]
    }
   ],
   "source": [
    "conn = psycopg2.connect(host='localhost', dbname='mushroom_data', user='postgres', password=password)\n",
    "\n",
    "cursor = conn.cursor()\n",
    "\n",
    "cursor.execute(\"\"\"CREATE TABLE mushroom(\n",
    "    Class text,  \n",
    "    Bruises text, \n",
    "    Odor text, \n",
    "    Spore_print_color text,\n",
    "    Population text, \n",
    "    Habitat text, \n",
    "    mushroom_ID text PRIMARY KEY,\n",
    "    GillID text,\n",
    "    CapID text,\n",
    "    VeilID text,\n",
    "    StalkID text\n",
    ")\n",
    "\"\"\")\n",
    "conn.commit()\n",
    "print(\"Table created\")\n",
    "conn.close()"
   ]
  },
  {
   "cell_type": "code",
   "execution_count": 145,
   "id": "961e707d",
   "metadata": {},
   "outputs": [],
   "source": [
    "conn = psycopg2.connect(host='localhost', dbname='mushroom_data', user='postgres', password=password)\n",
    "\n",
    "cursor = conn.cursor()\n",
    "\n",
    "with open('mushroom.csv', 'r') as f:\n",
    "    next(f) # Skip the header row.\n",
    "    cursor.copy_from(f, 'mushroom', sep=',',null='')\n",
    "    \n",
    "conn.commit()\n",
    "conn.close()"
   ]
  },
  {
   "cell_type": "markdown",
   "id": "6270b35a",
   "metadata": {},
   "source": [
    "#### Creating table 'gill_features' and loading the data"
   ]
  },
  {
   "cell_type": "code",
   "execution_count": 162,
   "id": "93097433",
   "metadata": {},
   "outputs": [
    {
     "name": "stdout",
     "output_type": "stream",
     "text": [
      "Table created\n"
     ]
    }
   ],
   "source": [
    "conn = psycopg2.connect(host='localhost', dbname='mushroom_data', user='postgres', password=password)\n",
    "\n",
    "cursor = conn.cursor()\n",
    "\n",
    "cursor.execute(\"\"\"CREATE TABLE gill_features(\n",
    "    gill_attachment text,  \n",
    "    gill_spacing text, \n",
    "    gill_size text, \n",
    "    gill_color text, \n",
    "    gillID text PRIMARY KEY\n",
    ")\n",
    "\"\"\")\n",
    "conn.commit()\n",
    "print(\"Table created\")\n",
    "conn.close()"
   ]
  },
  {
   "cell_type": "code",
   "execution_count": 163,
   "id": "1475e647",
   "metadata": {},
   "outputs": [],
   "source": [
    "conn = psycopg2.connect(host='localhost', dbname='mushroom_data', user='postgres', password=password)\n",
    "\n",
    "cursor = conn.cursor()\n",
    "\n",
    "with open('gill_features.csv', 'r') as f:\n",
    "    next(f) # Skip the header row.\n",
    "    cursor.copy_from(f, 'gill_features', sep=',',null='')\n",
    "    \n",
    "conn.commit()\n",
    "conn.close()"
   ]
  },
  {
   "cell_type": "markdown",
   "id": "d8024f8f",
   "metadata": {},
   "source": [
    "#### Creating table 'cap_features' and loading the data"
   ]
  },
  {
   "cell_type": "code",
   "execution_count": 167,
   "id": "28a39c54",
   "metadata": {},
   "outputs": [
    {
     "name": "stdout",
     "output_type": "stream",
     "text": [
      "Table created\n"
     ]
    }
   ],
   "source": [
    "conn = psycopg2.connect(host='localhost', dbname='mushroom_data', user='postgres', password=password)\n",
    "\n",
    "cursor = conn.cursor()\n",
    "\n",
    "cursor.execute(\"\"\"CREATE TABLE cap_features(\n",
    "    cap_shape text,  \n",
    "    cap_surface text, \n",
    "    cap_color text,\n",
    "    capID text PRIMARY KEY\n",
    ")\n",
    "\"\"\")\n",
    "conn.commit()\n",
    "print(\"Table created\")\n",
    "conn.close()"
   ]
  },
  {
   "cell_type": "code",
   "execution_count": 168,
   "id": "d1589ace",
   "metadata": {},
   "outputs": [],
   "source": [
    "conn = psycopg2.connect(host='localhost', dbname='mushroom_data', user='postgres', password=password)\n",
    "\n",
    "cursor = conn.cursor()\n",
    "\n",
    "with open('cap_features.csv', 'r') as f:\n",
    "    next(f) # Skip the header row.\n",
    "    cursor.copy_from(f, 'cap_features', sep=',',null='')\n",
    "    \n",
    "conn.commit()\n",
    "conn.close()"
   ]
  },
  {
   "cell_type": "markdown",
   "id": "05cbf2d6",
   "metadata": {},
   "source": [
    "#### Creating table 'veil_features' and loading the data"
   ]
  },
  {
   "cell_type": "code",
   "execution_count": 170,
   "id": "b373336e",
   "metadata": {},
   "outputs": [
    {
     "name": "stdout",
     "output_type": "stream",
     "text": [
      "Table created\n"
     ]
    }
   ],
   "source": [
    "conn = psycopg2.connect(host='localhost', dbname='mushroom_data', user='postgres', password=password)\n",
    "\n",
    "cursor = conn.cursor()\n",
    "\n",
    "cursor.execute(\"\"\"CREATE TABLE veil_features(\n",
    "    veil_type text,  \n",
    "    veil_color text, \n",
    "    ring_number text, \n",
    "    ring_type text, \n",
    "    veilID text PRIMARY KEY\n",
    ")\n",
    "\"\"\")\n",
    "conn.commit()\n",
    "print(\"Table created\")\n",
    "conn.close()"
   ]
  },
  {
   "cell_type": "code",
   "execution_count": 171,
   "id": "f5dd620e",
   "metadata": {},
   "outputs": [],
   "source": [
    "conn = psycopg2.connect(host='localhost', dbname='mushroom_data', user='postgres', password=password)\n",
    "\n",
    "cursor = conn.cursor()\n",
    "\n",
    "with open('veil_features.csv', 'r') as f:\n",
    "    next(f) # Skip the header row.\n",
    "    cursor.copy_from(f, 'veil_features', sep=',',null='')\n",
    "    \n",
    "conn.commit()\n",
    "conn.close()"
   ]
  },
  {
   "cell_type": "markdown",
   "id": "5a602ec4",
   "metadata": {},
   "source": [
    "#### Creating table 'stalk_features' and loading the data"
   ]
  },
  {
   "cell_type": "code",
   "execution_count": 173,
   "id": "38514e03",
   "metadata": {},
   "outputs": [
    {
     "name": "stdout",
     "output_type": "stream",
     "text": [
      "Table created\n"
     ]
    }
   ],
   "source": [
    "conn = psycopg2.connect(host='localhost', dbname='mushroom_data', user='postgres', password=password)\n",
    "\n",
    "cursor = conn.cursor()\n",
    "\n",
    "cursor.execute(\"\"\"CREATE TABLE stalk_features(\n",
    "    stalk_shape text,  \n",
    "    stalk_root text, \n",
    "    stalk_surface_above_ring text, \n",
    "    stalk_surface_below_ring text, \n",
    "    stalk_color_above_ring text, \n",
    "    stalk_color_below_ring text, \n",
    "    stalkID text PRIMARY KEY\n",
    ")\n",
    "\"\"\")\n",
    "conn.commit()\n",
    "print(\"Table created\")\n",
    "conn.close()"
   ]
  },
  {
   "cell_type": "code",
   "execution_count": 174,
   "id": "8f1f7863",
   "metadata": {},
   "outputs": [],
   "source": [
    "conn = psycopg2.connect(host='localhost', dbname='mushroom_data', user='postgres', password=password)\n",
    "\n",
    "cursor = conn.cursor()\n",
    "\n",
    "with open('stalk_features.csv', 'r') as f:\n",
    "    next(f) # Skip the header row.\n",
    "    cursor.copy_from(f, 'stalk_features', sep=',',null='')\n",
    "    \n",
    "conn.commit()\n",
    "conn.close()"
   ]
  },
  {
   "cell_type": "markdown",
   "id": "d00ef14a",
   "metadata": {},
   "source": [
    "#### Now the data is successfully loaded into postgreSQL database names \"mushroom_data\"\n",
    "#### Running some queries now\n",
    "\n",
    "##### 1. In which habitat are the most edible mushrooms found?"
   ]
  },
  {
   "cell_type": "code",
   "execution_count": 203,
   "id": "fd5244ff",
   "metadata": {},
   "outputs": [
    {
     "data": {
      "text/html": [
       "<div>\n",
       "<style scoped>\n",
       "    .dataframe tbody tr th:only-of-type {\n",
       "        vertical-align: middle;\n",
       "    }\n",
       "\n",
       "    .dataframe tbody tr th {\n",
       "        vertical-align: top;\n",
       "    }\n",
       "\n",
       "    .dataframe thead th {\n",
       "        text-align: right;\n",
       "    }\n",
       "</style>\n",
       "<table border=\"1\" class=\"dataframe\">\n",
       "  <thead>\n",
       "    <tr style=\"text-align: right;\">\n",
       "      <th></th>\n",
       "      <th>habitat</th>\n",
       "      <th>edible_count</th>\n",
       "    </tr>\n",
       "  </thead>\n",
       "  <tbody>\n",
       "    <tr>\n",
       "      <th>0</th>\n",
       "      <td>d</td>\n",
       "      <td>1880</td>\n",
       "    </tr>\n",
       "    <tr>\n",
       "      <th>1</th>\n",
       "      <td>g</td>\n",
       "      <td>1408</td>\n",
       "    </tr>\n",
       "    <tr>\n",
       "      <th>2</th>\n",
       "      <td>m</td>\n",
       "      <td>256</td>\n",
       "    </tr>\n",
       "    <tr>\n",
       "      <th>3</th>\n",
       "      <td>l</td>\n",
       "      <td>240</td>\n",
       "    </tr>\n",
       "    <tr>\n",
       "      <th>4</th>\n",
       "      <td>w</td>\n",
       "      <td>192</td>\n",
       "    </tr>\n",
       "  </tbody>\n",
       "</table>\n",
       "</div>"
      ],
      "text/plain": [
       "  habitat  edible_count\n",
       "0       d          1880\n",
       "1       g          1408\n",
       "2       m           256\n",
       "3       l           240\n",
       "4       w           192"
      ]
     },
     "execution_count": 203,
     "metadata": {},
     "output_type": "execute_result"
    }
   ],
   "source": [
    "with psycopg2.connect(host='localhost', dbname='mushroom_data', user='postgres', password=password) as conn:\n",
    "\n",
    "    query = \"\"\"SELECT habitat, count(mushroom_id) AS edible_count\n",
    "                FROM mushroom\n",
    "                WHERE class = 'e'\n",
    "                group by habitat\n",
    "                order by count(mushroom_id) DESC\"\"\"\n",
    "    \n",
    "    habitat_edible = pd.read_sql_query(query,conn)\n",
    "\n",
    "habitat_edible.head()"
   ]
  },
  {
   "attachments": {
    "image.png": {
     "image/png": "[encoded data removed]"
    }
   },
   "cell_type": "markdown",
   "id": "238859b7",
   "metadata": {},
   "source": [
    "![image.png](attachment:image.png)"
   ]
  },
  {
   "cell_type": "markdown",
   "id": "c3a70be8",
   "metadata": {},
   "source": [
    "* Query results clearly show that most edible mushrooms are found in woods and grassy areas "
   ]
  },
  {
   "cell_type": "markdown",
   "id": "7e5b0d1f",
   "metadata": {},
   "source": [
    "##### 2. Does odor helps in classifying mushroom as edible or poisonous?"
   ]
  },
  {
   "cell_type": "code",
   "execution_count": 198,
   "id": "c28346f3",
   "metadata": {},
   "outputs": [
    {
     "data": {
      "text/html": [
       "<div>\n",
       "<style scoped>\n",
       "    .dataframe tbody tr th:only-of-type {\n",
       "        vertical-align: middle;\n",
       "    }\n",
       "\n",
       "    .dataframe tbody tr th {\n",
       "        vertical-align: top;\n",
       "    }\n",
       "\n",
       "    .dataframe thead th {\n",
       "        text-align: right;\n",
       "    }\n",
       "</style>\n",
       "<table border=\"1\" class=\"dataframe\">\n",
       "  <thead>\n",
       "    <tr style=\"text-align: right;\">\n",
       "      <th></th>\n",
       "      <th>class</th>\n",
       "      <th>odor</th>\n",
       "      <th>count</th>\n",
       "    </tr>\n",
       "  </thead>\n",
       "  <tbody>\n",
       "    <tr>\n",
       "      <th>0</th>\n",
       "      <td>e</td>\n",
       "      <td>n</td>\n",
       "      <td>3408</td>\n",
       "    </tr>\n",
       "    <tr>\n",
       "      <th>1</th>\n",
       "      <td>p</td>\n",
       "      <td>f</td>\n",
       "      <td>2160</td>\n",
       "    </tr>\n",
       "    <tr>\n",
       "      <th>2</th>\n",
       "      <td>p</td>\n",
       "      <td>y</td>\n",
       "      <td>576</td>\n",
       "    </tr>\n",
       "    <tr>\n",
       "      <th>3</th>\n",
       "      <td>p</td>\n",
       "      <td>s</td>\n",
       "      <td>576</td>\n",
       "    </tr>\n",
       "    <tr>\n",
       "      <th>4</th>\n",
       "      <td>e</td>\n",
       "      <td>l</td>\n",
       "      <td>400</td>\n",
       "    </tr>\n",
       "  </tbody>\n",
       "</table>\n",
       "</div>"
      ],
      "text/plain": [
       "  class odor  count\n",
       "0     e    n   3408\n",
       "1     p    f   2160\n",
       "2     p    y    576\n",
       "3     p    s    576\n",
       "4     e    l    400"
      ]
     },
     "execution_count": 198,
     "metadata": {},
     "output_type": "execute_result"
    }
   ],
   "source": [
    "with psycopg2.connect(host='localhost', dbname='mushroom_data', user='postgres', password=password) as conn:\n",
    "\n",
    "    query = \"\"\"SELECT class, odor, count(mushroom_id) AS count\n",
    "                FROM mushroom\n",
    "                group by class, odor\n",
    "                order by count(mushroom_id) DESC\"\"\"\n",
    "    \n",
    "    odor_class = pd.read_sql_query(query,conn)\n",
    "\n",
    "odor_class.head()"
   ]
  },
  {
   "attachments": {
    "image.png": {
     "image/png": "[encoded data removed]"
    }
   },
   "cell_type": "markdown",
   "id": "17251e30",
   "metadata": {},
   "source": [
    "![image.png](attachment:image.png)"
   ]
  },
  {
   "cell_type": "markdown",
   "id": "b89b4fb3",
   "metadata": {},
   "source": [
    "* Mostly mushrooms without any odor are edible. \n",
    "* Foul or fishy smelling mushrooms are most likely poisonous. "
   ]
  },
  {
   "cell_type": "markdown",
   "id": "727a372d",
   "metadata": {},
   "source": [
    "##### 3. For the mushrooms with some kind of of odor , how does gill color help classify? "
   ]
  },
  {
   "cell_type": "code",
   "execution_count": 204,
   "id": "08db177d",
   "metadata": {},
   "outputs": [
    {
     "data": {
      "text/html": [
       "<div>\n",
       "<style scoped>\n",
       "    .dataframe tbody tr th:only-of-type {\n",
       "        vertical-align: middle;\n",
       "    }\n",
       "\n",
       "    .dataframe tbody tr th {\n",
       "        vertical-align: top;\n",
       "    }\n",
       "\n",
       "    .dataframe thead th {\n",
       "        text-align: right;\n",
       "    }\n",
       "</style>\n",
       "<table border=\"1\" class=\"dataframe\">\n",
       "  <thead>\n",
       "    <tr style=\"text-align: right;\">\n",
       "      <th></th>\n",
       "      <th>class</th>\n",
       "      <th>gill_color</th>\n",
       "      <th>no_of_mushrooms</th>\n",
       "    </tr>\n",
       "  </thead>\n",
       "  <tbody>\n",
       "    <tr>\n",
       "      <th>0</th>\n",
       "      <td>p</td>\n",
       "      <td>b</td>\n",
       "      <td>1728</td>\n",
       "    </tr>\n",
       "    <tr>\n",
       "      <th>1</th>\n",
       "      <td>p</td>\n",
       "      <td>p</td>\n",
       "      <td>640</td>\n",
       "    </tr>\n",
       "    <tr>\n",
       "      <th>2</th>\n",
       "      <td>p</td>\n",
       "      <td>h</td>\n",
       "      <td>528</td>\n",
       "    </tr>\n",
       "    <tr>\n",
       "      <th>3</th>\n",
       "      <td>p</td>\n",
       "      <td>g</td>\n",
       "      <td>480</td>\n",
       "    </tr>\n",
       "    <tr>\n",
       "      <th>4</th>\n",
       "      <td>e</td>\n",
       "      <td>w</td>\n",
       "      <td>224</td>\n",
       "    </tr>\n",
       "  </tbody>\n",
       "</table>\n",
       "</div>"
      ],
      "text/plain": [
       "  class gill_color  no_of_mushrooms\n",
       "0     p          b             1728\n",
       "1     p          p              640\n",
       "2     p          h              528\n",
       "3     p          g              480\n",
       "4     e          w              224"
      ]
     },
     "execution_count": 204,
     "metadata": {},
     "output_type": "execute_result"
    }
   ],
   "source": [
    "with psycopg2.connect(host='localhost', dbname='mushroom_data', user='postgres', password=password) as conn:\n",
    "\n",
    "    query = \"\"\"SELECT class, gill_color, count(mushroom_id) as no_of_mushrooms\n",
    "                FROM mushroom as m\n",
    "\t\t\t\tleft join gill_features as g\n",
    "\t\t\t\ton m.gillID = g.gillID\n",
    "\t\t\t\twhere m.odor not in ('n')\n",
    "\t\t\t\tgroup by gill_color, class\n",
    "\t\t\t\torder by count(mushroom_id) DESC\"\"\"\n",
    "    \n",
    "    gill_color = pd.read_sql_query(query,conn)\n",
    "\n",
    "gill_color.head()"
   ]
  },
  {
   "attachments": {
    "image.png": {
     "image/png": "[encoded data removed]"
    }
   },
   "cell_type": "markdown",
   "id": "27d2dee7",
   "metadata": {},
   "source": [
    "![image.png](attachment:image.png)"
   ]
  },
  {
   "cell_type": "markdown",
   "id": "e911ac50",
   "metadata": {},
   "source": [
    "* Mushroom having buff gill color and some kind of odor is definitely poisonous"
   ]
  },
  {
   "cell_type": "code",
   "execution_count": null,
   "id": "9bb09553",
   "metadata": {},
   "outputs": [],
   "source": []
  }
 ],
 "metadata": {
  "kernelspec": {
   "display_name": "Python 3 (ipykernel)",
   "language": "python",
   "name": "python3"
  },
  "language_info": {
   "codemirror_mode": {
    "name": "ipython",
    "version": 3
   },
   "file_extension": ".py",
   "mimetype": "text/x-python",
   "name": "python",
   "nbconvert_exporter": "python",
   "pygments_lexer": "ipython3",
   "version": "3.8.10"
  }
 },
 "nbformat": 4,
 "nbformat_minor": 5
}
