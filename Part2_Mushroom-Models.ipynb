{
 "cells": [
  {
   "cell_type": "markdown",
   "id": "3d9b8886",
   "metadata": {},
   "source": [
    "# To Eat, or Not to Eat?\n",
    "## Part 2: Building models to predict whether mushrooms are edible or poisonous\n",
    "### Sakshi and Abbie\n",
    "### March 9, 2022"
   ]
  },
  {
   "cell_type": "markdown",
   "id": "0b950312",
   "metadata": {},
   "source": [
    "### Introduction\n",
    "\n",
    "This notebook is a continuation of our mushroom project. The first notebook (\"Part 1\") detailed an exploratory analysis to provide an overall understanding of variable types and variable distributions. Now that we better understand our data, we can commence pre-processing and model-building.\n",
    "\n",
    "As a reminder, this data was retrieved from the UCI Machine Learning repository. It details several characteristics about mushrooms and also classifies them by whether they are edible or poisonous. The data draws from The Audubon Society Field Guide to North American Mushrooms, published in 1981. \n",
    "\n",
    "The goal of this project is to construct a model with high precision, accuracy, and recall, which can predict whether a mushroom is edible or poisonous."
   ]
  },
  {
   "cell_type": "markdown",
   "id": "fdd5cffc",
   "metadata": {},
   "source": [
    "**Libraries and Data Set Required for Notebook**"
   ]
  },
  {
   "cell_type": "code",
   "execution_count": 196,
   "id": "69e37bcd",
   "metadata": {},
   "outputs": [],
   "source": [
    "# load initial libraries\n",
    "\n",
    "# The basics\n",
    "import pandas as pd\n",
    "import numpy as np\n",
    "import seaborn as sns\n",
    "import matplotlib.pyplot as plt\n",
    "# For pre-processing\n",
    "from sklearn.preprocessing import LabelEncoder\n",
    "from sklearn.preprocessing import StandardScaler\n",
    "from sklearn.model_selection import train_test_split\n",
    "# For models\n",
    "from sklearn.linear_model import LogisticRegression\n",
    "from sklearn.tree import DecisionTreeClassifier\n",
    "from sklearn.neighbors import KNeighborsClassifier\n",
    "from sklearn.ensemble import RandomForestClassifier\n",
    "# For performance\n",
    "from sklearn.metrics import classification_report\n",
    "from sklearn.metrics import roc_curve, auc\n",
    "from sklearn import metrics\n",
    "from imblearn.combine import SMOTEENN\n",
    "from sklearn.model_selection import GridSearchCV\n",
    "from sklearn.model_selection import StratifiedKFold"
   ]
  },
  {
   "cell_type": "code",
   "execution_count": 197,
   "id": "05326773",
   "metadata": {
    "scrolled": true
   },
   "outputs": [
    {
     "data": {
      "text/html": [
       "<div>\n",
       "<style scoped>\n",
       "    .dataframe tbody tr th:only-of-type {\n",
       "        vertical-align: middle;\n",
       "    }\n",
       "\n",
       "    .dataframe tbody tr th {\n",
       "        vertical-align: top;\n",
       "    }\n",
       "\n",
       "    .dataframe thead th {\n",
       "        text-align: right;\n",
       "    }\n",
       "</style>\n",
       "<table border=\"1\" class=\"dataframe\">\n",
       "  <thead>\n",
       "    <tr style=\"text-align: right;\">\n",
       "      <th></th>\n",
       "      <th>class</th>\n",
       "      <th>cap-shape</th>\n",
       "      <th>cap-surface</th>\n",
       "      <th>cap-color</th>\n",
       "      <th>bruises</th>\n",
       "      <th>odor</th>\n",
       "      <th>gill-attachment</th>\n",
       "      <th>gill-spacing</th>\n",
       "      <th>gill-size</th>\n",
       "      <th>gill-color</th>\n",
       "      <th>...</th>\n",
       "      <th>stalk-surface-below-ring</th>\n",
       "      <th>stalk-color-above-ring</th>\n",
       "      <th>stalk-color-below-ring</th>\n",
       "      <th>veil-type</th>\n",
       "      <th>veil-color</th>\n",
       "      <th>ring-number</th>\n",
       "      <th>ring-type</th>\n",
       "      <th>spore-print-color</th>\n",
       "      <th>population</th>\n",
       "      <th>habitat</th>\n",
       "    </tr>\n",
       "  </thead>\n",
       "  <tbody>\n",
       "    <tr>\n",
       "      <th>0</th>\n",
       "      <td>p</td>\n",
       "      <td>x</td>\n",
       "      <td>s</td>\n",
       "      <td>n</td>\n",
       "      <td>t</td>\n",
       "      <td>p</td>\n",
       "      <td>f</td>\n",
       "      <td>c</td>\n",
       "      <td>n</td>\n",
       "      <td>k</td>\n",
       "      <td>...</td>\n",
       "      <td>s</td>\n",
       "      <td>w</td>\n",
       "      <td>w</td>\n",
       "      <td>p</td>\n",
       "      <td>w</td>\n",
       "      <td>o</td>\n",
       "      <td>p</td>\n",
       "      <td>k</td>\n",
       "      <td>s</td>\n",
       "      <td>u</td>\n",
       "    </tr>\n",
       "    <tr>\n",
       "      <th>1</th>\n",
       "      <td>e</td>\n",
       "      <td>x</td>\n",
       "      <td>s</td>\n",
       "      <td>y</td>\n",
       "      <td>t</td>\n",
       "      <td>a</td>\n",
       "      <td>f</td>\n",
       "      <td>c</td>\n",
       "      <td>b</td>\n",
       "      <td>k</td>\n",
       "      <td>...</td>\n",
       "      <td>s</td>\n",
       "      <td>w</td>\n",
       "      <td>w</td>\n",
       "      <td>p</td>\n",
       "      <td>w</td>\n",
       "      <td>o</td>\n",
       "      <td>p</td>\n",
       "      <td>n</td>\n",
       "      <td>n</td>\n",
       "      <td>g</td>\n",
       "    </tr>\n",
       "    <tr>\n",
       "      <th>2</th>\n",
       "      <td>e</td>\n",
       "      <td>b</td>\n",
       "      <td>s</td>\n",
       "      <td>w</td>\n",
       "      <td>t</td>\n",
       "      <td>l</td>\n",
       "      <td>f</td>\n",
       "      <td>c</td>\n",
       "      <td>b</td>\n",
       "      <td>n</td>\n",
       "      <td>...</td>\n",
       "      <td>s</td>\n",
       "      <td>w</td>\n",
       "      <td>w</td>\n",
       "      <td>p</td>\n",
       "      <td>w</td>\n",
       "      <td>o</td>\n",
       "      <td>p</td>\n",
       "      <td>n</td>\n",
       "      <td>n</td>\n",
       "      <td>m</td>\n",
       "    </tr>\n",
       "    <tr>\n",
       "      <th>3</th>\n",
       "      <td>p</td>\n",
       "      <td>x</td>\n",
       "      <td>y</td>\n",
       "      <td>w</td>\n",
       "      <td>t</td>\n",
       "      <td>p</td>\n",
       "      <td>f</td>\n",
       "      <td>c</td>\n",
       "      <td>n</td>\n",
       "      <td>n</td>\n",
       "      <td>...</td>\n",
       "      <td>s</td>\n",
       "      <td>w</td>\n",
       "      <td>w</td>\n",
       "      <td>p</td>\n",
       "      <td>w</td>\n",
       "      <td>o</td>\n",
       "      <td>p</td>\n",
       "      <td>k</td>\n",
       "      <td>s</td>\n",
       "      <td>u</td>\n",
       "    </tr>\n",
       "    <tr>\n",
       "      <th>4</th>\n",
       "      <td>e</td>\n",
       "      <td>x</td>\n",
       "      <td>s</td>\n",
       "      <td>g</td>\n",
       "      <td>f</td>\n",
       "      <td>n</td>\n",
       "      <td>f</td>\n",
       "      <td>w</td>\n",
       "      <td>b</td>\n",
       "      <td>k</td>\n",
       "      <td>...</td>\n",
       "      <td>s</td>\n",
       "      <td>w</td>\n",
       "      <td>w</td>\n",
       "      <td>p</td>\n",
       "      <td>w</td>\n",
       "      <td>o</td>\n",
       "      <td>e</td>\n",
       "      <td>n</td>\n",
       "      <td>a</td>\n",
       "      <td>g</td>\n",
       "    </tr>\n",
       "  </tbody>\n",
       "</table>\n",
       "<p>5 rows × 23 columns</p>\n",
       "</div>"
      ],
      "text/plain": [
       "  class cap-shape cap-surface cap-color bruises odor gill-attachment  \\\n",
       "0     p         x           s         n       t    p               f   \n",
       "1     e         x           s         y       t    a               f   \n",
       "2     e         b           s         w       t    l               f   \n",
       "3     p         x           y         w       t    p               f   \n",
       "4     e         x           s         g       f    n               f   \n",
       "\n",
       "  gill-spacing gill-size gill-color  ... stalk-surface-below-ring  \\\n",
       "0            c         n          k  ...                        s   \n",
       "1            c         b          k  ...                        s   \n",
       "2            c         b          n  ...                        s   \n",
       "3            c         n          n  ...                        s   \n",
       "4            w         b          k  ...                        s   \n",
       "\n",
       "  stalk-color-above-ring stalk-color-below-ring veil-type veil-color  \\\n",
       "0                      w                      w         p          w   \n",
       "1                      w                      w         p          w   \n",
       "2                      w                      w         p          w   \n",
       "3                      w                      w         p          w   \n",
       "4                      w                      w         p          w   \n",
       "\n",
       "  ring-number ring-type spore-print-color population habitat  \n",
       "0           o         p                 k          s       u  \n",
       "1           o         p                 n          n       g  \n",
       "2           o         p                 n          n       m  \n",
       "3           o         p                 k          s       u  \n",
       "4           o         e                 n          a       g  \n",
       "\n",
       "[5 rows x 23 columns]"
      ]
     },
     "execution_count": 197,
     "metadata": {},
     "output_type": "execute_result"
    }
   ],
   "source": [
    "# Read in the 1987 original data set\n",
    "mushroom = pd.read_csv('1987_data.csv')\n",
    "\n",
    "# View the first few rows\n",
    "mushroom.head()"
   ]
  },
  {
   "cell_type": "markdown",
   "id": "919cf6ad",
   "metadata": {},
   "source": [
    "### Pre-processing"
   ]
  },
  {
   "cell_type": "markdown",
   "id": "85b8b5a2",
   "metadata": {},
   "source": [
    "Fortunately, this data set is fairly clean and requires very minimal pre-processing. No resampling is needed, as the classes are fairly equally distributed. Only one variable (\"stalk-root\") contains missing values. All variables are categorical, meaning we can apply the same label encoding technique on all of them.\n",
    "\n",
    "*Our pre-processing steps:*\n",
    "1. Remove the \"stalk-root\" variable (too many are missing to be useful for analysis)\n",
    "2. Convert all variables to numerical (necessary for machine learning algorithms) \n",
    "3. Determine import features\n",
    "4. Implement appropriate feature engineering\n",
    "5. Standardize variables"
   ]
  },
  {
   "cell_type": "markdown",
   "id": "48e1f40f",
   "metadata": {},
   "source": [
    "**Step 1: Handle Nulls**\n",
    "\n",
    "Remove the stalk-root variable"
   ]
  },
  {
   "cell_type": "code",
   "execution_count": 198,
   "id": "849540b5",
   "metadata": {},
   "outputs": [
    {
     "data": {
      "text/html": [
       "<div>\n",
       "<style scoped>\n",
       "    .dataframe tbody tr th:only-of-type {\n",
       "        vertical-align: middle;\n",
       "    }\n",
       "\n",
       "    .dataframe tbody tr th {\n",
       "        vertical-align: top;\n",
       "    }\n",
       "\n",
       "    .dataframe thead th {\n",
       "        text-align: right;\n",
       "    }\n",
       "</style>\n",
       "<table border=\"1\" class=\"dataframe\">\n",
       "  <thead>\n",
       "    <tr style=\"text-align: right;\">\n",
       "      <th></th>\n",
       "      <th>class</th>\n",
       "      <th>cap-shape</th>\n",
       "      <th>cap-surface</th>\n",
       "      <th>cap-color</th>\n",
       "      <th>bruises</th>\n",
       "      <th>odor</th>\n",
       "      <th>gill-attachment</th>\n",
       "      <th>gill-spacing</th>\n",
       "      <th>gill-size</th>\n",
       "      <th>gill-color</th>\n",
       "      <th>...</th>\n",
       "      <th>stalk-surface-below-ring</th>\n",
       "      <th>stalk-color-above-ring</th>\n",
       "      <th>stalk-color-below-ring</th>\n",
       "      <th>veil-type</th>\n",
       "      <th>veil-color</th>\n",
       "      <th>ring-number</th>\n",
       "      <th>ring-type</th>\n",
       "      <th>spore-print-color</th>\n",
       "      <th>population</th>\n",
       "      <th>habitat</th>\n",
       "    </tr>\n",
       "  </thead>\n",
       "  <tbody>\n",
       "    <tr>\n",
       "      <th>0</th>\n",
       "      <td>p</td>\n",
       "      <td>x</td>\n",
       "      <td>s</td>\n",
       "      <td>n</td>\n",
       "      <td>t</td>\n",
       "      <td>p</td>\n",
       "      <td>f</td>\n",
       "      <td>c</td>\n",
       "      <td>n</td>\n",
       "      <td>k</td>\n",
       "      <td>...</td>\n",
       "      <td>s</td>\n",
       "      <td>w</td>\n",
       "      <td>w</td>\n",
       "      <td>p</td>\n",
       "      <td>w</td>\n",
       "      <td>o</td>\n",
       "      <td>p</td>\n",
       "      <td>k</td>\n",
       "      <td>s</td>\n",
       "      <td>u</td>\n",
       "    </tr>\n",
       "    <tr>\n",
       "      <th>1</th>\n",
       "      <td>e</td>\n",
       "      <td>x</td>\n",
       "      <td>s</td>\n",
       "      <td>y</td>\n",
       "      <td>t</td>\n",
       "      <td>a</td>\n",
       "      <td>f</td>\n",
       "      <td>c</td>\n",
       "      <td>b</td>\n",
       "      <td>k</td>\n",
       "      <td>...</td>\n",
       "      <td>s</td>\n",
       "      <td>w</td>\n",
       "      <td>w</td>\n",
       "      <td>p</td>\n",
       "      <td>w</td>\n",
       "      <td>o</td>\n",
       "      <td>p</td>\n",
       "      <td>n</td>\n",
       "      <td>n</td>\n",
       "      <td>g</td>\n",
       "    </tr>\n",
       "    <tr>\n",
       "      <th>2</th>\n",
       "      <td>e</td>\n",
       "      <td>b</td>\n",
       "      <td>s</td>\n",
       "      <td>w</td>\n",
       "      <td>t</td>\n",
       "      <td>l</td>\n",
       "      <td>f</td>\n",
       "      <td>c</td>\n",
       "      <td>b</td>\n",
       "      <td>n</td>\n",
       "      <td>...</td>\n",
       "      <td>s</td>\n",
       "      <td>w</td>\n",
       "      <td>w</td>\n",
       "      <td>p</td>\n",
       "      <td>w</td>\n",
       "      <td>o</td>\n",
       "      <td>p</td>\n",
       "      <td>n</td>\n",
       "      <td>n</td>\n",
       "      <td>m</td>\n",
       "    </tr>\n",
       "    <tr>\n",
       "      <th>3</th>\n",
       "      <td>p</td>\n",
       "      <td>x</td>\n",
       "      <td>y</td>\n",
       "      <td>w</td>\n",
       "      <td>t</td>\n",
       "      <td>p</td>\n",
       "      <td>f</td>\n",
       "      <td>c</td>\n",
       "      <td>n</td>\n",
       "      <td>n</td>\n",
       "      <td>...</td>\n",
       "      <td>s</td>\n",
       "      <td>w</td>\n",
       "      <td>w</td>\n",
       "      <td>p</td>\n",
       "      <td>w</td>\n",
       "      <td>o</td>\n",
       "      <td>p</td>\n",
       "      <td>k</td>\n",
       "      <td>s</td>\n",
       "      <td>u</td>\n",
       "    </tr>\n",
       "    <tr>\n",
       "      <th>4</th>\n",
       "      <td>e</td>\n",
       "      <td>x</td>\n",
       "      <td>s</td>\n",
       "      <td>g</td>\n",
       "      <td>f</td>\n",
       "      <td>n</td>\n",
       "      <td>f</td>\n",
       "      <td>w</td>\n",
       "      <td>b</td>\n",
       "      <td>k</td>\n",
       "      <td>...</td>\n",
       "      <td>s</td>\n",
       "      <td>w</td>\n",
       "      <td>w</td>\n",
       "      <td>p</td>\n",
       "      <td>w</td>\n",
       "      <td>o</td>\n",
       "      <td>e</td>\n",
       "      <td>n</td>\n",
       "      <td>a</td>\n",
       "      <td>g</td>\n",
       "    </tr>\n",
       "  </tbody>\n",
       "</table>\n",
       "<p>5 rows × 22 columns</p>\n",
       "</div>"
      ],
      "text/plain": [
       "  class cap-shape cap-surface cap-color bruises odor gill-attachment  \\\n",
       "0     p         x           s         n       t    p               f   \n",
       "1     e         x           s         y       t    a               f   \n",
       "2     e         b           s         w       t    l               f   \n",
       "3     p         x           y         w       t    p               f   \n",
       "4     e         x           s         g       f    n               f   \n",
       "\n",
       "  gill-spacing gill-size gill-color  ... stalk-surface-below-ring  \\\n",
       "0            c         n          k  ...                        s   \n",
       "1            c         b          k  ...                        s   \n",
       "2            c         b          n  ...                        s   \n",
       "3            c         n          n  ...                        s   \n",
       "4            w         b          k  ...                        s   \n",
       "\n",
       "  stalk-color-above-ring stalk-color-below-ring veil-type veil-color  \\\n",
       "0                      w                      w         p          w   \n",
       "1                      w                      w         p          w   \n",
       "2                      w                      w         p          w   \n",
       "3                      w                      w         p          w   \n",
       "4                      w                      w         p          w   \n",
       "\n",
       "  ring-number ring-type spore-print-color population habitat  \n",
       "0           o         p                 k          s       u  \n",
       "1           o         p                 n          n       g  \n",
       "2           o         p                 n          n       m  \n",
       "3           o         p                 k          s       u  \n",
       "4           o         e                 n          a       g  \n",
       "\n",
       "[5 rows x 22 columns]"
      ]
     },
     "execution_count": 198,
     "metadata": {},
     "output_type": "execute_result"
    }
   ],
   "source": [
    "# Drop the stalk root var\n",
    "mushroom_df = mushroom.drop('stalk-root', axis=1)\n",
    "mushroom_df.head()"
   ]
  },
  {
   "cell_type": "markdown",
   "id": "225b73ee",
   "metadata": {},
   "source": [
    "**Step 2: Recode Variables and Convert to Numerical**"
   ]
  },
  {
   "cell_type": "markdown",
   "id": "257bfbc5",
   "metadata": {},
   "source": [
    "There are a few variables that we will recode into binary, based on some telling characteristics from our exploratory analysis. For the rest, we will use a simple label encoder, without any additional re-grouping. \n",
    "\n",
    "First, we will tackle the \"odor\" variable. The possible values are as follows:\n",
    "- almond=a\n",
    "- anise=l\n",
    "- creosote=c\n",
    "- fishy=y\n",
    "- foul=f\n",
    "- musty=m\n",
    "- none=n\n",
    "- pungent=p\n",
    "- spicy=s\n",
    "\n",
    "We can easily regroup this into a binary variable (\"bad\" smell vs. \"not bad\" smell). See code below."
   ]
  },
  {
   "cell_type": "code",
   "execution_count": 199,
   "id": "a24c358d",
   "metadata": {},
   "outputs": [],
   "source": [
    "# If the odor is \"almond,\" \"anise,\" or \"none\" group together as 0\n",
    "# Else the odor is a bad odor, which is 1\n",
    "mushroom_df['odor'] = np.where((mushroom_df['odor'] == 'a') | (mushroom_df['odor'] == 'l') | (mushroom_df['odor'] == 'n'), \n",
    "                               0, 1)"
   ]
  },
  {
   "cell_type": "markdown",
   "id": "a3bf9eaa",
   "metadata": {},
   "source": [
    "Next, we can re-code the \"gill-color\" variable to be \"buff\" or \"other.\" Through the EDA, we learned that *all* mushrooms with a \"buff\" gill-color were poisonous. The other colors did not really distinguish much. Therefore, we can re-categorize the colors into \"buff\" (1) or \"other\" (0)."
   ]
  },
  {
   "cell_type": "code",
   "execution_count": 200,
   "id": "de9daa8e",
   "metadata": {},
   "outputs": [],
   "source": [
    "# If the gill color is \"buff\" (b) code as 1\n",
    "# Else the gill color is \"other\"\n",
    "mushroom_df['gill-color'] = np.where(mushroom_df['gill-color'] == 'b', 1, 0)"
   ]
  },
  {
   "cell_type": "markdown",
   "id": "d7a55f7b",
   "metadata": {},
   "source": [
    "The last most informative variable (as determined by our EDA) was the \"spore-print-color.\" As a refresher, the possible colors are:\n",
    "- black=k\n",
    "- brown=n\n",
    "- buff=b\n",
    "- chocolate=h\n",
    "- green=r\n",
    "- orange=o\n",
    "- purple=u\n",
    "- white=w\n",
    "- yellow=y\n",
    "\n",
    "We learned that the vast majority of mushrooms with a black (k) or brown (n) spore print color were edible. The vast majority of mushrooms with a chocolate (h) or white (w) spore print color were poisonous. The remaining colors were note as informative. Therefore, we can re-group into:\n",
    "- black or brown = 1\n",
    "- chocolate or white = 2\n",
    "- other color = 3"
   ]
  },
  {
   "cell_type": "code",
   "execution_count": 201,
   "id": "939672c5",
   "metadata": {},
   "outputs": [],
   "source": [
    "# For smoothest method, create function for sole purpose of recoding this variable\n",
    "def recode_spore(series):\n",
    "    if series == 'k' or series == 'n':\n",
    "        return 1\n",
    "    elif series == 'h' or series == 'w':\n",
    "        return 2\n",
    "    else:\n",
    "        return 3\n",
    "\n",
    "# apply this function to the variable we want to recode\n",
    "mushroom_df['spore-print-color'] = mushroom_df['spore-print-color'].apply(recode_spore)"
   ]
  },
  {
   "cell_type": "code",
   "execution_count": 202,
   "id": "7e167226",
   "metadata": {},
   "outputs": [
    {
     "data": {
      "text/html": [
       "<div>\n",
       "<style scoped>\n",
       "    .dataframe tbody tr th:only-of-type {\n",
       "        vertical-align: middle;\n",
       "    }\n",
       "\n",
       "    .dataframe tbody tr th {\n",
       "        vertical-align: top;\n",
       "    }\n",
       "\n",
       "    .dataframe thead th {\n",
       "        text-align: right;\n",
       "    }\n",
       "</style>\n",
       "<table border=\"1\" class=\"dataframe\">\n",
       "  <thead>\n",
       "    <tr style=\"text-align: right;\">\n",
       "      <th></th>\n",
       "      <th>odor</th>\n",
       "      <th>gill-color</th>\n",
       "      <th>spore-print-color</th>\n",
       "    </tr>\n",
       "  </thead>\n",
       "  <tbody>\n",
       "    <tr>\n",
       "      <th>0</th>\n",
       "      <td>1</td>\n",
       "      <td>0</td>\n",
       "      <td>1</td>\n",
       "    </tr>\n",
       "    <tr>\n",
       "      <th>1</th>\n",
       "      <td>0</td>\n",
       "      <td>0</td>\n",
       "      <td>1</td>\n",
       "    </tr>\n",
       "    <tr>\n",
       "      <th>2</th>\n",
       "      <td>0</td>\n",
       "      <td>0</td>\n",
       "      <td>1</td>\n",
       "    </tr>\n",
       "    <tr>\n",
       "      <th>3</th>\n",
       "      <td>1</td>\n",
       "      <td>0</td>\n",
       "      <td>1</td>\n",
       "    </tr>\n",
       "    <tr>\n",
       "      <th>4</th>\n",
       "      <td>0</td>\n",
       "      <td>0</td>\n",
       "      <td>1</td>\n",
       "    </tr>\n",
       "  </tbody>\n",
       "</table>\n",
       "</div>"
      ],
      "text/plain": [
       "   odor  gill-color  spore-print-color\n",
       "0     1           0                  1\n",
       "1     0           0                  1\n",
       "2     0           0                  1\n",
       "3     1           0                  1\n",
       "4     0           0                  1"
      ]
     },
     "execution_count": 202,
     "metadata": {},
     "output_type": "execute_result"
    }
   ],
   "source": [
    "# View the three vars that we just recoded and converted to numeric\n",
    "mushroom_df[['odor', 'gill-color', 'spore-print-color']].head()"
   ]
  },
  {
   "cell_type": "markdown",
   "id": "7556f9fe",
   "metadata": {},
   "source": [
    "Next, we can apply the label encoder to all the other variables without any additional re-grouping."
   ]
  },
  {
   "cell_type": "code",
   "execution_count": 203,
   "id": "4bac6c9f",
   "metadata": {},
   "outputs": [],
   "source": [
    "# Function to label encode data set\n",
    "def label_encode(df):\n",
    "    # necessary import\n",
    "    from sklearn.preprocessing import LabelEncoder\n",
    "    # Instantiate the label encoder\n",
    "    le = LabelEncoder()\n",
    "    # Create deep copy\n",
    "    df_new = df.copy()\n",
    "    # create columns list\n",
    "    col_list = df_new.columns\n",
    "    # Iterate through str columns\n",
    "    for var in col_list:\n",
    "        if df_new[var].dtypes == 'O':\n",
    "            # Complete transformation\n",
    "            df_new[var] = le.fit_transform(df_new[var])\n",
    "    # return new data frame\n",
    "    return df_new"
   ]
  },
  {
   "cell_type": "code",
   "execution_count": 204,
   "id": "b7b160b5",
   "metadata": {},
   "outputs": [
    {
     "data": {
      "text/html": [
       "<div>\n",
       "<style scoped>\n",
       "    .dataframe tbody tr th:only-of-type {\n",
       "        vertical-align: middle;\n",
       "    }\n",
       "\n",
       "    .dataframe tbody tr th {\n",
       "        vertical-align: top;\n",
       "    }\n",
       "\n",
       "    .dataframe thead th {\n",
       "        text-align: right;\n",
       "    }\n",
       "</style>\n",
       "<table border=\"1\" class=\"dataframe\">\n",
       "  <thead>\n",
       "    <tr style=\"text-align: right;\">\n",
       "      <th></th>\n",
       "      <th>class</th>\n",
       "      <th>cap-shape</th>\n",
       "      <th>cap-surface</th>\n",
       "      <th>cap-color</th>\n",
       "      <th>bruises</th>\n",
       "      <th>odor</th>\n",
       "      <th>gill-attachment</th>\n",
       "      <th>gill-spacing</th>\n",
       "      <th>gill-size</th>\n",
       "      <th>gill-color</th>\n",
       "      <th>...</th>\n",
       "      <th>stalk-surface-below-ring</th>\n",
       "      <th>stalk-color-above-ring</th>\n",
       "      <th>stalk-color-below-ring</th>\n",
       "      <th>veil-type</th>\n",
       "      <th>veil-color</th>\n",
       "      <th>ring-number</th>\n",
       "      <th>ring-type</th>\n",
       "      <th>spore-print-color</th>\n",
       "      <th>population</th>\n",
       "      <th>habitat</th>\n",
       "    </tr>\n",
       "  </thead>\n",
       "  <tbody>\n",
       "    <tr>\n",
       "      <th>0</th>\n",
       "      <td>1</td>\n",
       "      <td>5</td>\n",
       "      <td>2</td>\n",
       "      <td>4</td>\n",
       "      <td>1</td>\n",
       "      <td>1</td>\n",
       "      <td>1</td>\n",
       "      <td>0</td>\n",
       "      <td>1</td>\n",
       "      <td>0</td>\n",
       "      <td>...</td>\n",
       "      <td>2</td>\n",
       "      <td>7</td>\n",
       "      <td>7</td>\n",
       "      <td>0</td>\n",
       "      <td>2</td>\n",
       "      <td>1</td>\n",
       "      <td>4</td>\n",
       "      <td>1</td>\n",
       "      <td>3</td>\n",
       "      <td>5</td>\n",
       "    </tr>\n",
       "    <tr>\n",
       "      <th>1</th>\n",
       "      <td>0</td>\n",
       "      <td>5</td>\n",
       "      <td>2</td>\n",
       "      <td>9</td>\n",
       "      <td>1</td>\n",
       "      <td>0</td>\n",
       "      <td>1</td>\n",
       "      <td>0</td>\n",
       "      <td>0</td>\n",
       "      <td>0</td>\n",
       "      <td>...</td>\n",
       "      <td>2</td>\n",
       "      <td>7</td>\n",
       "      <td>7</td>\n",
       "      <td>0</td>\n",
       "      <td>2</td>\n",
       "      <td>1</td>\n",
       "      <td>4</td>\n",
       "      <td>1</td>\n",
       "      <td>2</td>\n",
       "      <td>1</td>\n",
       "    </tr>\n",
       "    <tr>\n",
       "      <th>2</th>\n",
       "      <td>0</td>\n",
       "      <td>0</td>\n",
       "      <td>2</td>\n",
       "      <td>8</td>\n",
       "      <td>1</td>\n",
       "      <td>0</td>\n",
       "      <td>1</td>\n",
       "      <td>0</td>\n",
       "      <td>0</td>\n",
       "      <td>0</td>\n",
       "      <td>...</td>\n",
       "      <td>2</td>\n",
       "      <td>7</td>\n",
       "      <td>7</td>\n",
       "      <td>0</td>\n",
       "      <td>2</td>\n",
       "      <td>1</td>\n",
       "      <td>4</td>\n",
       "      <td>1</td>\n",
       "      <td>2</td>\n",
       "      <td>3</td>\n",
       "    </tr>\n",
       "    <tr>\n",
       "      <th>3</th>\n",
       "      <td>1</td>\n",
       "      <td>5</td>\n",
       "      <td>3</td>\n",
       "      <td>8</td>\n",
       "      <td>1</td>\n",
       "      <td>1</td>\n",
       "      <td>1</td>\n",
       "      <td>0</td>\n",
       "      <td>1</td>\n",
       "      <td>0</td>\n",
       "      <td>...</td>\n",
       "      <td>2</td>\n",
       "      <td>7</td>\n",
       "      <td>7</td>\n",
       "      <td>0</td>\n",
       "      <td>2</td>\n",
       "      <td>1</td>\n",
       "      <td>4</td>\n",
       "      <td>1</td>\n",
       "      <td>3</td>\n",
       "      <td>5</td>\n",
       "    </tr>\n",
       "    <tr>\n",
       "      <th>4</th>\n",
       "      <td>0</td>\n",
       "      <td>5</td>\n",
       "      <td>2</td>\n",
       "      <td>3</td>\n",
       "      <td>0</td>\n",
       "      <td>0</td>\n",
       "      <td>1</td>\n",
       "      <td>1</td>\n",
       "      <td>0</td>\n",
       "      <td>0</td>\n",
       "      <td>...</td>\n",
       "      <td>2</td>\n",
       "      <td>7</td>\n",
       "      <td>7</td>\n",
       "      <td>0</td>\n",
       "      <td>2</td>\n",
       "      <td>1</td>\n",
       "      <td>0</td>\n",
       "      <td>1</td>\n",
       "      <td>0</td>\n",
       "      <td>1</td>\n",
       "    </tr>\n",
       "  </tbody>\n",
       "</table>\n",
       "<p>5 rows × 22 columns</p>\n",
       "</div>"
      ],
      "text/plain": [
       "   class  cap-shape  cap-surface  cap-color  bruises  odor  gill-attachment  \\\n",
       "0      1          5            2          4        1     1                1   \n",
       "1      0          5            2          9        1     0                1   \n",
       "2      0          0            2          8        1     0                1   \n",
       "3      1          5            3          8        1     1                1   \n",
       "4      0          5            2          3        0     0                1   \n",
       "\n",
       "   gill-spacing  gill-size  gill-color  ...  stalk-surface-below-ring  \\\n",
       "0             0          1           0  ...                         2   \n",
       "1             0          0           0  ...                         2   \n",
       "2             0          0           0  ...                         2   \n",
       "3             0          1           0  ...                         2   \n",
       "4             1          0           0  ...                         2   \n",
       "\n",
       "   stalk-color-above-ring  stalk-color-below-ring  veil-type  veil-color  \\\n",
       "0                       7                       7          0           2   \n",
       "1                       7                       7          0           2   \n",
       "2                       7                       7          0           2   \n",
       "3                       7                       7          0           2   \n",
       "4                       7                       7          0           2   \n",
       "\n",
       "   ring-number  ring-type  spore-print-color  population  habitat  \n",
       "0            1          4                  1           3        5  \n",
       "1            1          4                  1           2        1  \n",
       "2            1          4                  1           2        3  \n",
       "3            1          4                  1           3        5  \n",
       "4            1          0                  1           0        1  \n",
       "\n",
       "[5 rows x 22 columns]"
      ]
     },
     "execution_count": 204,
     "metadata": {},
     "output_type": "execute_result"
    }
   ],
   "source": [
    "# Use function on data frame\n",
    "mushroom_num = label_encode(mushroom_df)\n",
    "# View data frame\n",
    "mushroom_num.head()"
   ]
  },
  {
   "cell_type": "markdown",
   "id": "e4a3da1c",
   "metadata": {},
   "source": [
    "**Step 3. Determine Important Features**\n",
    "\n",
    "Before conducting the correlation matrix, we will view the distribution (between edible and poisonous), among all features in the data set. This can help us quickly visualize whether a variable could be meaningful in predicting whether a mushroom is safe to eat."
   ]
  },
  {
   "cell_type": "code",
   "execution_count": 205,
   "id": "cc642ce6",
   "metadata": {},
   "outputs": [],
   "source": [
    "# Define function to display distributions among edible vs. poisonous\n",
    "def violin(df, dependent_var):\n",
    "    # Load necessary libraries\n",
    "    import pandas as pd\n",
    "    import seaborn as sns\n",
    "    import matplotlib.pyplot as plt\n",
    "    # unpivot the df from wide to long with pd.melt\n",
    "    long_df = pd.melt(df, dependent_var, var_name='Characteristics')\n",
    "    # set up axes\n",
    "    fig, ax = plt.subplots(figsize=(20,8))\n",
    "    # create violin plot\n",
    "    sns.violinplot(x='Characteristics', y='value', hue='class', split = True, data=long_df, palette = 'prism')\n",
    "    # drop the dependent variable\n",
    "    features = df.drop([dependent_var],axis = 1)\n",
    "    # Edit lables\n",
    "    ax.set_xticklabels(rotation = 90, labels = list(features.columns), size=12)\n",
    "    # Display plot\n",
    "    plt.show()"
   ]
  },
  {
   "cell_type": "code",
   "execution_count": 206,
   "id": "f1c5bd54",
   "metadata": {},
   "outputs": [
    {
     "data": {
      "image/png": "[encoded data removed]",
      "text/plain": [
       "<Figure size 1440x576 with 1 Axes>"
      ]
     },
     "metadata": {},
     "output_type": "display_data"
    }
   ],
   "source": [
    "# Use function on data frame\n",
    "violin(mushroom_num, 'class')"
   ]
  },
  {
   "cell_type": "markdown",
   "id": "5900d643",
   "metadata": {},
   "source": [
    "In the above plot, 0 represents \"Edible\" and 1 represents \"Poisonous.\" \n",
    "\n",
    "The following variables seems to have a fairly similar distribution across classes:\n",
    "* cap-shape\n",
    "* cap-surface\n",
    "* cap-color\n",
    "* gill-attachment\n",
    "* stalk shape\n",
    "* veil-type\n",
    "* veil-color\n",
    "* ring-number\n",
    "\n",
    "Therefore, these variables will likely not be very useful in predicting whether a mushroom is poisonous or not. We can, thus, remove them from our data set before computing the correlation matrix."
   ]
  },
  {
   "cell_type": "code",
   "execution_count": 207,
   "id": "6ce69cc7",
   "metadata": {},
   "outputs": [
    {
     "data": {
      "text/html": [
       "<div>\n",
       "<style scoped>\n",
       "    .dataframe tbody tr th:only-of-type {\n",
       "        vertical-align: middle;\n",
       "    }\n",
       "\n",
       "    .dataframe tbody tr th {\n",
       "        vertical-align: top;\n",
       "    }\n",
       "\n",
       "    .dataframe thead th {\n",
       "        text-align: right;\n",
       "    }\n",
       "</style>\n",
       "<table border=\"1\" class=\"dataframe\">\n",
       "  <thead>\n",
       "    <tr style=\"text-align: right;\">\n",
       "      <th></th>\n",
       "      <th>class</th>\n",
       "      <th>bruises</th>\n",
       "      <th>odor</th>\n",
       "      <th>gill-spacing</th>\n",
       "      <th>gill-size</th>\n",
       "      <th>gill-color</th>\n",
       "      <th>stalk-surface-above-ring</th>\n",
       "      <th>stalk-surface-below-ring</th>\n",
       "      <th>stalk-color-above-ring</th>\n",
       "      <th>stalk-color-below-ring</th>\n",
       "      <th>ring-type</th>\n",
       "      <th>spore-print-color</th>\n",
       "      <th>population</th>\n",
       "      <th>habitat</th>\n",
       "    </tr>\n",
       "  </thead>\n",
       "  <tbody>\n",
       "    <tr>\n",
       "      <th>0</th>\n",
       "      <td>1</td>\n",
       "      <td>1</td>\n",
       "      <td>1</td>\n",
       "      <td>0</td>\n",
       "      <td>1</td>\n",
       "      <td>0</td>\n",
       "      <td>2</td>\n",
       "      <td>2</td>\n",
       "      <td>7</td>\n",
       "      <td>7</td>\n",
       "      <td>4</td>\n",
       "      <td>1</td>\n",
       "      <td>3</td>\n",
       "      <td>5</td>\n",
       "    </tr>\n",
       "    <tr>\n",
       "      <th>1</th>\n",
       "      <td>0</td>\n",
       "      <td>1</td>\n",
       "      <td>0</td>\n",
       "      <td>0</td>\n",
       "      <td>0</td>\n",
       "      <td>0</td>\n",
       "      <td>2</td>\n",
       "      <td>2</td>\n",
       "      <td>7</td>\n",
       "      <td>7</td>\n",
       "      <td>4</td>\n",
       "      <td>1</td>\n",
       "      <td>2</td>\n",
       "      <td>1</td>\n",
       "    </tr>\n",
       "    <tr>\n",
       "      <th>2</th>\n",
       "      <td>0</td>\n",
       "      <td>1</td>\n",
       "      <td>0</td>\n",
       "      <td>0</td>\n",
       "      <td>0</td>\n",
       "      <td>0</td>\n",
       "      <td>2</td>\n",
       "      <td>2</td>\n",
       "      <td>7</td>\n",
       "      <td>7</td>\n",
       "      <td>4</td>\n",
       "      <td>1</td>\n",
       "      <td>2</td>\n",
       "      <td>3</td>\n",
       "    </tr>\n",
       "    <tr>\n",
       "      <th>3</th>\n",
       "      <td>1</td>\n",
       "      <td>1</td>\n",
       "      <td>1</td>\n",
       "      <td>0</td>\n",
       "      <td>1</td>\n",
       "      <td>0</td>\n",
       "      <td>2</td>\n",
       "      <td>2</td>\n",
       "      <td>7</td>\n",
       "      <td>7</td>\n",
       "      <td>4</td>\n",
       "      <td>1</td>\n",
       "      <td>3</td>\n",
       "      <td>5</td>\n",
       "    </tr>\n",
       "    <tr>\n",
       "      <th>4</th>\n",
       "      <td>0</td>\n",
       "      <td>0</td>\n",
       "      <td>0</td>\n",
       "      <td>1</td>\n",
       "      <td>0</td>\n",
       "      <td>0</td>\n",
       "      <td>2</td>\n",
       "      <td>2</td>\n",
       "      <td>7</td>\n",
       "      <td>7</td>\n",
       "      <td>0</td>\n",
       "      <td>1</td>\n",
       "      <td>0</td>\n",
       "      <td>1</td>\n",
       "    </tr>\n",
       "  </tbody>\n",
       "</table>\n",
       "</div>"
      ],
      "text/plain": [
       "   class  bruises  odor  gill-spacing  gill-size  gill-color  \\\n",
       "0      1        1     1             0          1           0   \n",
       "1      0        1     0             0          0           0   \n",
       "2      0        1     0             0          0           0   \n",
       "3      1        1     1             0          1           0   \n",
       "4      0        0     0             1          0           0   \n",
       "\n",
       "   stalk-surface-above-ring  stalk-surface-below-ring  stalk-color-above-ring  \\\n",
       "0                         2                         2                       7   \n",
       "1                         2                         2                       7   \n",
       "2                         2                         2                       7   \n",
       "3                         2                         2                       7   \n",
       "4                         2                         2                       7   \n",
       "\n",
       "   stalk-color-below-ring  ring-type  spore-print-color  population  habitat  \n",
       "0                       7          4                  1           3        5  \n",
       "1                       7          4                  1           2        1  \n",
       "2                       7          4                  1           2        3  \n",
       "3                       7          4                  1           3        5  \n",
       "4                       7          0                  1           0        1  "
      ]
     },
     "execution_count": 207,
     "metadata": {},
     "output_type": "execute_result"
    }
   ],
   "source": [
    "mushroom_num2 = mushroom_num.drop(['cap-shape', 'cap-surface', 'cap-color', 'gill-attachment', 'stalk-shape',\n",
    "                                  'veil-type', 'veil-color', 'ring-number'], axis=1)\n",
    "mushroom_num2.head()"
   ]
  },
  {
   "cell_type": "code",
   "execution_count": 208,
   "id": "d3a2dac7",
   "metadata": {},
   "outputs": [],
   "source": [
    "# create function to restructure dataframe in a way that works with triangular correlation matrix\n",
    "def tri_corr_matrix(df):\n",
    "    # import libraries\n",
    "    import warnings\n",
    "    warnings.filterwarnings('ignore')\n",
    "    import numpy as np\n",
    "    \n",
    "    # absolute value so that color corresponds to magnitude of correlation, regardless of direction\n",
    "    df_corr = abs(df.corr())\n",
    "    \n",
    "    # Reading code line from inside out...\n",
    "        # Get shape of matrix\n",
    "        # Use np.ones to replace all values with ones in the same shape as matrix\n",
    "        # Wrap inside np.triu, in order to create an upper triangle of matrix\n",
    "                # Upper diagonal of matrix are now 1s and lower diagonal of matrix are zeros\n",
    "        # Create boolean where 1s are 'true' and 0s are 'false' (this is needed for mask function in next step)\n",
    "        # mask the resulting array to be the same shape/type as the original df\n",
    "                # We are only maintaining the values, where the boolean would be 'false'\n",
    "    df_corr_tri = df_corr.mask(np.triu(np.ones(df_corr.shape)).astype(np.bool))\n",
    "    # round values for easier reading\n",
    "    df_corr_tri = df_corr_tri.round(2)\n",
    "    # drop first row and last column because those will always be NaNs\n",
    "    df_final = df_corr_tri.iloc[1::, :-1]\n",
    "    # return df\n",
    "    return df_final"
   ]
  },
  {
   "cell_type": "code",
   "execution_count": 209,
   "id": "1d43aece",
   "metadata": {},
   "outputs": [],
   "source": [
    "# Implement function\n",
    "mush_matrix = tri_corr_matrix(mushroom_num2)"
   ]
  },
  {
   "cell_type": "code",
   "execution_count": 210,
   "id": "2e556248",
   "metadata": {
    "scrolled": true
   },
   "outputs": [
    {
     "data": {
      "image/png": "[encoded data removed]",
      "text/plain": [
       "<Figure size 1080x1080 with 1 Axes>"
      ]
     },
     "metadata": {},
     "output_type": "display_data"
    }
   ],
   "source": [
    "# Visualize matrix\n",
    "\n",
    "# Set Figure Size\n",
    "sns.set(rc={'figure.figsize':(15,15)})\n",
    "\n",
    "# Visually display the matrix from above\n",
    "# use the yellow-green-blue color map so that high correlations are more easily identifiable\n",
    "h = sns.heatmap(mush_matrix, annot=True, cmap=\"YlGnBu\", cbar=False)\n",
    "\n",
    "# Add plot title \n",
    "h.set_title('Mushroom: Correlation Matrix', size=14, weight='bold', pad=15)\n",
    "\n",
    "# rotate tick marks so they are easier to read\n",
    "plt.xticks(rotation=50)\n",
    "\n",
    "# Display plot\n",
    "plt.show()"
   ]
  },
  {
   "cell_type": "markdown",
   "id": "ff23ba89",
   "metadata": {},
   "source": [
    "**Step 4: Feature Engineering**\n",
    "\n",
    "As mentioned previously, the exploratory analysis suggested that the mushroom odor could be extremely indicative of whether it is posionous or edible. There is an extremely high correlation between odor and class (0.97). Meanwhile, odor does not have a high correlation with any other variable (i.e., there is no multi-collinearity). The second highest correlation was the \"spore-print-color\" (0.59). We might also find the \"gill-size\" and the \"gill-color\" useful (both with correlations of 0.54). Therefore, we will refine our data set to only have these variables. "
   ]
  },
  {
   "cell_type": "code",
   "execution_count": 211,
   "id": "07771eee",
   "metadata": {},
   "outputs": [
    {
     "data": {
      "text/html": [
       "<div>\n",
       "<style scoped>\n",
       "    .dataframe tbody tr th:only-of-type {\n",
       "        vertical-align: middle;\n",
       "    }\n",
       "\n",
       "    .dataframe tbody tr th {\n",
       "        vertical-align: top;\n",
       "    }\n",
       "\n",
       "    .dataframe thead th {\n",
       "        text-align: right;\n",
       "    }\n",
       "</style>\n",
       "<table border=\"1\" class=\"dataframe\">\n",
       "  <thead>\n",
       "    <tr style=\"text-align: right;\">\n",
       "      <th></th>\n",
       "      <th>odor</th>\n",
       "      <th>spore-print-color</th>\n",
       "      <th>gill-color</th>\n",
       "      <th>gill-size</th>\n",
       "      <th>class</th>\n",
       "    </tr>\n",
       "  </thead>\n",
       "  <tbody>\n",
       "    <tr>\n",
       "      <th>0</th>\n",
       "      <td>1</td>\n",
       "      <td>1</td>\n",
       "      <td>0</td>\n",
       "      <td>1</td>\n",
       "      <td>1</td>\n",
       "    </tr>\n",
       "    <tr>\n",
       "      <th>1</th>\n",
       "      <td>0</td>\n",
       "      <td>1</td>\n",
       "      <td>0</td>\n",
       "      <td>0</td>\n",
       "      <td>0</td>\n",
       "    </tr>\n",
       "    <tr>\n",
       "      <th>2</th>\n",
       "      <td>0</td>\n",
       "      <td>1</td>\n",
       "      <td>0</td>\n",
       "      <td>0</td>\n",
       "      <td>0</td>\n",
       "    </tr>\n",
       "    <tr>\n",
       "      <th>3</th>\n",
       "      <td>1</td>\n",
       "      <td>1</td>\n",
       "      <td>0</td>\n",
       "      <td>1</td>\n",
       "      <td>1</td>\n",
       "    </tr>\n",
       "    <tr>\n",
       "      <th>4</th>\n",
       "      <td>0</td>\n",
       "      <td>1</td>\n",
       "      <td>0</td>\n",
       "      <td>0</td>\n",
       "      <td>0</td>\n",
       "    </tr>\n",
       "  </tbody>\n",
       "</table>\n",
       "</div>"
      ],
      "text/plain": [
       "   odor  spore-print-color  gill-color  gill-size  class\n",
       "0     1                  1           0          1      1\n",
       "1     0                  1           0          0      0\n",
       "2     0                  1           0          0      0\n",
       "3     1                  1           0          1      1\n",
       "4     0                  1           0          0      0"
      ]
     },
     "execution_count": 211,
     "metadata": {},
     "output_type": "execute_result"
    }
   ],
   "source": [
    "# Create refined data set with only those variables\n",
    "mushroom_final = mushroom_num2[['odor', 'spore-print-color', 'gill-color', 'gill-size', 'class']]\n",
    "mushroom_final.head()"
   ]
  },
  {
   "cell_type": "markdown",
   "id": "14117240",
   "metadata": {},
   "source": [
    "**Step 5: Standardize Variables**\n",
    "\n",
    "Standardize variables and split into training vs. testing"
   ]
  },
  {
   "cell_type": "code",
   "execution_count": 212,
   "id": "8e367330",
   "metadata": {},
   "outputs": [],
   "source": [
    "# Get our predicted variables\n",
    "X = mushroom_final.drop('class', axis=1)\n",
    "# Get our outcome variable\n",
    "y = mushroom_final['class']\n",
    "\n",
    "# Split our data into training vs. testing\n",
    "# We want to compute the model on our training data to train the model\n",
    "# We then use that model on our testing data set to see the performance\n",
    "X_train, X_test, y_train, y_test, = train_test_split(X, y, test_size = 0.3, random_state=33, stratify=y)\n",
    "\n",
    "# Standardize our data\n",
    "sc=StandardScaler()\n",
    "# Standardize training values\n",
    "X_train = sc.fit_transform(X_train)\n",
    "# Standardize testing values\n",
    "X_test=sc.fit_transform(X_test)"
   ]
  },
  {
   "cell_type": "markdown",
   "id": "0e0540fd",
   "metadata": {},
   "source": [
    "## Compute Models"
   ]
  },
  {
   "cell_type": "code",
   "execution_count": 259,
   "id": "9c9c2707",
   "metadata": {},
   "outputs": [],
   "source": [
    "def evaluate_model(y_test, y_pred, y_pred_prob):\n",
    "    \"\"\"Evaluate the performance of model using the test data. \n",
    "        Use accuracy score, precision, recall and confusion matrix as performance metrics.\"\"\"\n",
    "    from sklearn.metrics import classification_report, confusion_matrix\n",
    "    \n",
    "    # Find the AUC\n",
    "    auc = metrics.roc_auc_score(y_test, y_pred_prob)\n",
    "\n",
    "    # Display result\n",
    "    print(f'\\n\\nArea Under the Curve (AUC): {round(auc*100,2)}%') \n",
    "    \n",
    "    print(\"\\n\\n\",classification_report(y_test, y_pred),\n",
    "          \"\\n\\nConfusion Matrix: \")\n",
    "         \n",
    "    \n",
    "    confusion_matrix_ = metrics.confusion_matrix(y_test, y_pred)\n",
    "    sns.heatmap(confusion_matrix_, annot=True, fmt=\"d\")\n",
    "    plt.xlabel(\"PREDICTED LABEL\")\n",
    "    plt.ylabel(\"TRUE LABEL\")\n",
    "    plt.show()"
   ]
  },
  {
   "cell_type": "markdown",
   "id": "6079f348",
   "metadata": {},
   "source": [
    "### Model 1: Logistic Regression"
   ]
  },
  {
   "cell_type": "code",
   "execution_count": 260,
   "id": "12ee2619",
   "metadata": {},
   "outputs": [
    {
     "name": "stdout",
     "output_type": "stream",
     "text": [
      "Logistic Regression training accuracy: 97.84%\n",
      "\n",
      "\n",
      "Area Under the Curve (AUC): 99.9%\n",
      "\n",
      "\n",
      "               precision    recall  f1-score   support\n",
      "\n",
      "           0       0.97      0.99      0.98      1263\n",
      "           1       0.99      0.97      0.98      1175\n",
      "\n",
      "    accuracy                           0.98      2438\n",
      "   macro avg       0.98      0.98      0.98      2438\n",
      "weighted avg       0.98      0.98      0.98      2438\n",
      " \n",
      "\n",
      "Confusion Matrix: \n"
     ]
    },
    {
     "data": {
      "image/png": "[encoded data removed]",
      "text/plain": [
       "<Figure size 504x504 with 2 Axes>"
      ]
     },
     "metadata": {},
     "output_type": "display_data"
    }
   ],
   "source": [
    "# Compute the logistic regression\n",
    "# Fit it to the training data (train the model)\n",
    "logreg_model = LogisticRegression(random_state=33).fit(X_train, y_train)\n",
    "\n",
    "# Find the predicted values (predict edible or poisonous) on our testing data\n",
    "y_pred_lr = logreg_model.predict(X_test)\n",
    "\n",
    "y_pred_prob_lr = logreg_model.predict_proba(X_test)[::,1]\n",
    "\n",
    "# Displaying model score\n",
    "print(f\"Logistic Regression training accuracy: {round(logreg_model.score(X_train, y_train)*100,2)}%\")\n",
    "\n",
    "# Evaluating basic model\n",
    "evaluate_model(y_test, y_pred_lr, y_pred_prob_lr)"
   ]
  },
  {
   "cell_type": "markdown",
   "id": "84d417ca",
   "metadata": {},
   "source": [
    "**Tune Model (using ROC curve)**\n",
    "\n",
    "Currently, the logistic regression model is set to a default threshold of 0.5. This means that any mushroom with a predicted probability above 0.5 will be classified as 1=poisonous, while everything below 0.5 will be classified as 0=edible. On its own, this model is already remarkably accurate. However, we can still view threshold and try to boost even higher.\n"
   ]
  },
  {
   "cell_type": "markdown",
   "id": "3acd9857",
   "metadata": {},
   "source": [
    "We will calculate the false positive rate (fpr) and the true positive rate (tpr) at every possible decision threshold. We will use this to plot a receiver operating characteristic (roc) curve. The value at which tpr is highest and fpr is lowest is the value we will use as our new threshold."
   ]
  },
  {
   "cell_type": "code",
   "execution_count": 256,
   "id": "ac6f2b40",
   "metadata": {},
   "outputs": [],
   "source": [
    "# fpr = false positive rate; tpr = true positive rate\n",
    "fpr, tpr, thresholds = metrics.roc_curve(y_test, y_pred_prob_lr)"
   ]
  },
  {
   "cell_type": "code",
   "execution_count": 257,
   "id": "be64f65f",
   "metadata": {},
   "outputs": [
    {
     "data": {
      "image/png": "[encoded data removed]",
      "text/plain": [
       "<Figure size 504x504 with 1 Axes>"
      ]
     },
     "metadata": {},
     "output_type": "display_data"
    }
   ],
   "source": [
    "# Plot our ROC curve\n",
    "\n",
    "# Set Figure Size\n",
    "sns.set(rc={'figure.figsize':(7,7)})\n",
    "# Plot false positive rate against true positive rate\n",
    "plt.plot(fpr, tpr)\n",
    "# Set labels\n",
    "plt.ylabel('Sensitivity (true positive)')\n",
    "plt.xlabel('Specificity (true negative)')\n",
    "plt.title('Receiver Operating Characteristic (ROC) Curve', fontweight='bold')\n",
    "# Show plot\n",
    "plt.show()"
   ]
  },
  {
   "cell_type": "markdown",
   "id": "9e8392d7",
   "metadata": {},
   "source": [
    "    Unsurprisingly, our AUC is already nearly 100%, meaning our model does a wonderful job of predicting whether a mushroom is edible or poisonous.\n",
    "\n",
    "    Moreover, from examining the ROC curve, it appears that the best threshold to optimize recall would be approximately 0.1. However, rather than estimate, we can be precise in calculating this threshold, according to the function below."
   ]
  },
  {
   "cell_type": "code",
   "execution_count": 261,
   "id": "0f714acb",
   "metadata": {},
   "outputs": [],
   "source": [
    "# Create function to determine the optimal threshold\n",
    "def optimal_threshold(X_test, y_test):\n",
    "    # necessary libraries\n",
    "    from sklearn.metrics import roc_curve, auc\n",
    "    from sklearn import metrics\n",
    "    # extract the predicted probabilities\n",
    "    y_pred_prob = logreg_model.predict_proba(X_test)[::,1]\n",
    "    # unpack the fpr, tpr, and thresholds\n",
    "    fpr, tpr, thresholds = metrics.roc_curve(y_test, y_pred_prob)\n",
    "    # Best threshold is where the true positive rate is highest and false positive rate is lowest \n",
    "       # (i.e. the largest difference between the two)\n",
    "    # Return the index of the maximum difference, so that we can find where the optimal threshold is located\n",
    "    optimal = np.argmax(tpr - fpr) \n",
    "    # Extract the value that is located at the appropriate index of our threshold array\n",
    "    optimal_threshold = thresholds[optimal]\n",
    "    print(f'The optimal threshold value is: {optimal_threshold}')\n",
    "    # Create ammended array with new values\n",
    "    # Find where probabilities are greater than our calculated optimal threshold\n",
    "    y_pred_tuned = np.where(y_pred_prob > optimal_threshold, 1, 0)\n",
    "    # print the new classification report\n",
    "    print(classification_report(y_test, y_pred_tuned))"
   ]
  },
  {
   "cell_type": "code",
   "execution_count": 262,
   "id": "af16cf73",
   "metadata": {},
   "outputs": [
    {
     "name": "stdout",
     "output_type": "stream",
     "text": [
      "The optimal threshold value is: 0.9973635895139101\n",
      "              precision    recall  f1-score   support\n",
      "\n",
      "           0       0.88      1.00      0.94      1263\n",
      "           1       1.00      0.85      0.92      1175\n",
      "\n",
      "    accuracy                           0.93      2438\n",
      "   macro avg       0.94      0.93      0.93      2438\n",
      "weighted avg       0.94      0.93      0.93      2438\n",
      "\n"
     ]
    }
   ],
   "source": [
    "# Implement function\n",
    "optimal_threshold(X_test, y_test)"
   ]
  },
  {
   "cell_type": "markdown",
   "id": "c20bd684",
   "metadata": {},
   "source": [
    "    Interestingly, when we apply the optimal threshold, the precision becomes 100%, while the recall drops quite considerably to 85%. Therefore, the default threshold of 0.5 is clearly superior for this model. "
   ]
  },
  {
   "cell_type": "markdown",
   "id": "85b3a179",
   "metadata": {},
   "source": [
    "    We can now try a different technique. Despite the sample sizes already being fairly equal, we can still experiment to see if SMOTE-ENN improves the overall performance of our model.\n",
    "\n",
    "**More Tuning (using SMOTE-ENN)**"
   ]
  },
  {
   "cell_type": "code",
   "execution_count": 266,
   "id": "6fe3c39c",
   "metadata": {},
   "outputs": [
    {
     "name": "stdout",
     "output_type": "stream",
     "text": [
      "Logistic Regression training accuracy: 100.0%\n",
      "\n",
      "\n",
      "Area Under the Curve (AUC): 99.88%\n",
      "\n",
      "\n",
      "               precision    recall  f1-score   support\n",
      "\n",
      "           0       0.97      1.00      0.99      1263\n",
      "           1       1.00      0.97      0.98      1175\n",
      "\n",
      "    accuracy                           0.99      2438\n",
      "   macro avg       0.99      0.99      0.99      2438\n",
      "weighted avg       0.99      0.99      0.99      2438\n",
      " \n",
      "\n",
      "Confusion Matrix: \n"
     ]
    },
    {
     "data": {
      "image/png": "[encoded data removed]",
      "text/plain": [
       "<Figure size 504x504 with 2 Axes>"
      ]
     },
     "metadata": {},
     "output_type": "display_data"
    }
   ],
   "source": [
    "# Instantiate the classifier\n",
    "sm = SMOTEENN(random_state=33, sampling_strategy='not majority', n_jobs=-1)\n",
    "\n",
    "# Resample our data\n",
    "X_res, y_res = sm.fit_resample(X_train, y_train)\n",
    "\n",
    "# Compute the logistic regression\n",
    "logreg_model_res = LogisticRegression(random_state=33).fit(X_res, y_res)\n",
    "\n",
    "# Find the predicted values (predict edible or poisonous)\n",
    "y_pred_res = logreg_model_res.predict(X_test)\n",
    "\n",
    "y_pred_prob_res_lr = logreg_model_res.predict_proba(X_test)[::,1]\n",
    "\n",
    "# Displaying model score\n",
    "print(f\"Logistic Regression training accuracy: {round(logreg_model_res.score(X_res, y_res)*100,2)}%\")\n",
    "\n",
    "# Evaluating basic model\n",
    "evaluate_model(y_test, y_pred_res, y_pred_prob_res_lr)"
   ]
  },
  {
   "cell_type": "markdown",
   "id": "f7040504",
   "metadata": {},
   "source": [
    "    This model is the best so far! Clearly, the resampling method improved our model even more."
   ]
  },
  {
   "cell_type": "markdown",
   "id": "c3bc55f3",
   "metadata": {},
   "source": [
    "**More Tuning (using Grid Search + resampling)**"
   ]
  },
  {
   "cell_type": "code",
   "execution_count": 267,
   "id": "ac86b23e",
   "metadata": {},
   "outputs": [],
   "source": [
    "# create a dictionary of possible parameters to iterate through\n",
    "param_dict = {\"penalty\": ['l1', 'l2', 'elasticnet', 'none'],\n",
    "             \"dual\": [True, False],\n",
    "             \"fit_intercept\": [True, False],\n",
    "             \"class_weight\": ['balanced', None],\n",
    "             \"random_state\": [33],\n",
    "             \"solver\": ['newton-cg', 'lbfgs', 'liblinear', 'sag', 'saga'],\n",
    "             \"multi_class\": ['auto', 'ovr', 'multinomial'],\n",
    "             \"warm_start\": [True, False]}\n",
    "\n",
    "# instantiate the classifier\n",
    "log = LogisticRegression()"
   ]
  },
  {
   "cell_type": "code",
   "execution_count": 268,
   "id": "5c93c134",
   "metadata": {},
   "outputs": [
    {
     "name": "stdout",
     "output_type": "stream",
     "text": [
      "Tuned Logistic Regression Parameters: {'class_weight': 'balanced', 'dual': True, 'fit_intercept': True, 'multi_class': 'auto', 'penalty': 'l2', 'random_state': 33, 'solver': 'liblinear', 'warm_start': True}\n",
      "Best logistic regression score is 1.0\n"
     ]
    }
   ],
   "source": [
    "# Run the decision tree model through the search, using the specified parameters and 20 crossfold validation\n",
    "grid_log = GridSearchCV(log, \n",
    "                      param_grid = param_dict, \n",
    "                      cv=20,\n",
    "                      scoring =['recall', 'precision'],\n",
    "                      refit='recall')\n",
    "\n",
    "# Fit the search to our training data\n",
    "grid_log.fit(X_res, y_res)\n",
    "\n",
    "# Print the tuned parameters and score\n",
    "print(\"Tuned Logistic Regression Parameters: {}\".format(grid_log.best_params_))"
   ]
  },
  {
   "cell_type": "code",
   "execution_count": 269,
   "id": "134cda26",
   "metadata": {},
   "outputs": [
    {
     "name": "stdout",
     "output_type": "stream",
     "text": [
      "Best logistic regression score is 1.0\n",
      "\n",
      "\n",
      "Area Under the Curve (AUC): 99.9%\n",
      "\n",
      "\n",
      "               precision    recall  f1-score   support\n",
      "\n",
      "           0       0.97      0.99      0.98      1263\n",
      "           1       0.99      0.97      0.98      1175\n",
      "\n",
      "    accuracy                           0.98      2438\n",
      "   macro avg       0.98      0.98      0.98      2438\n",
      "weighted avg       0.98      0.98      0.98      2438\n",
      " \n",
      "\n",
      "Confusion Matrix: \n"
     ]
    },
    {
     "data": {
      "image/png": "[encoded data removed]",
      "text/plain": [
       "<Figure size 504x504 with 2 Axes>"
      ]
     },
     "metadata": {},
     "output_type": "display_data"
    }
   ],
   "source": [
    "# Update model with revised parameters \n",
    "# Compute the logistic regression\n",
    "\n",
    "logreg_model = grid_log.best_estimator_.fit(X_train, y_train)\n",
    "\n",
    "# Find the predicted values (predict edible or poisonous)\n",
    "y_pred = logreg_model.predict(X_test)\n",
    "\n",
    "y_pred_prob = logreg_model.predict_proba(X_test)[::,1]\n",
    "\n",
    "# Displaying model score\n",
    "print(\"Best logistic regression score is {}\".format(grid_log.best_score_))\n",
    "\n",
    "# Evaluating basic model\n",
    "evaluate_model(y_test, y_pred, y_pred_prob)"
   ]
  },
  {
   "cell_type": "markdown",
   "id": "2aafb35d",
   "metadata": {},
   "source": [
    "    Using the grid search did not change our scores from the original, despite changing a few of the parameters. However, it is still a highly accurate model. \n",
    "\n",
    "We will move on to other model types, just to compare."
   ]
  },
  {
   "cell_type": "markdown",
   "id": "ec81685e",
   "metadata": {},
   "source": [
    "## Model 2: KNN"
   ]
  },
  {
   "cell_type": "code",
   "execution_count": 274,
   "id": "2c240a56",
   "metadata": {},
   "outputs": [
    {
     "name": "stdout",
     "output_type": "stream",
     "text": [
      "KNN Model score: 98.51%\n",
      "\n",
      "\n",
      "Area Under the Curve (AUC): 99.91%\n",
      "\n",
      "\n",
      "               precision    recall  f1-score   support\n",
      "\n",
      "           0       1.00      0.94      0.97      1263\n",
      "           1       0.94      1.00      0.97      1175\n",
      "\n",
      "    accuracy                           0.97      2438\n",
      "   macro avg       0.97      0.97      0.97      2438\n",
      "weighted avg       0.97      0.97      0.97      2438\n",
      " \n",
      "\n",
      "Confusion Matrix: \n"
     ]
    },
    {
     "data": {
      "image/png": "[encoded data removed]",
      "text/plain": [
       "<Figure size 504x504 with 2 Axes>"
      ]
     },
     "metadata": {},
     "output_type": "display_data"
    }
   ],
   "source": [
    "knn = KNeighborsClassifier(n_neighbors=3)\n",
    "knn.fit(X_train, y_train)\n",
    "\n",
    "y_pred_knn = knn.predict(X_test)\n",
    "y_pred_prob_knn = knn.predict_proba(X_test)[::,1]\n",
    "\n",
    "# Displaying model score\n",
    "print(f\"KNN Model score: {round(knn.score(X_train, y_train)*100,2)}%\")\n",
    "\n",
    "# Evaluate Model\n",
    "evaluate_model(y_test, y_pred_knn, y_pred_prob_knn)"
   ]
  },
  {
   "cell_type": "markdown",
   "id": "136719d1",
   "metadata": {},
   "source": [
    "    Basic KNN Model with K=3 did well with accuracy of 97% and AUC score of 99.9%\n",
    "Tuning model to find optimum K value."
   ]
  },
  {
   "cell_type": "markdown",
   "id": "f115956d",
   "metadata": {},
   "source": [
    "**Tune Model**"
   ]
  },
  {
   "cell_type": "code",
   "execution_count": 232,
   "id": "9e038d9d",
   "metadata": {},
   "outputs": [
    {
     "name": "stdout",
     "output_type": "stream",
     "text": [
      "Fitting 10 folds for each of 89 candidates, totalling 890 fits\n",
      "Best Score:  0.985050681947573\n",
      "Best Params:  {'n_neighbors': 2}\n"
     ]
    }
   ],
   "source": [
    "knn = KNeighborsClassifier()\n",
    "\n",
    "# Optimum K value is said to square root of no. of observations\n",
    "opt_k = int(np.sqrt(mushroom_final.shape[0]))\n",
    "\n",
    "knn_param = dict(n_neighbors=list(range(1, opt_k)))\n",
    "  \n",
    "# defining parameter range\n",
    "grid_KNN = GridSearchCV(knn, knn_param, cv=10, scoring='accuracy', return_train_score=False,verbose=1)\n",
    "  \n",
    "# fitting the model for grid search\n",
    "grid_knn_fit = grid_KNN.fit(X_train, y_train)\n",
    "\n",
    "print(\"Best Score: \",grid_knn_fit.best_score_)\n",
    "print(\"Best Params: \", grid_knn_fit.best_params_)"
   ]
  },
  {
   "cell_type": "code",
   "execution_count": 245,
   "id": "74e91df5",
   "metadata": {
    "scrolled": true
   },
   "outputs": [
    {
     "name": "stdout",
     "output_type": "stream",
     "text": [
      "Best score for KNN :  0.985050681947573\n",
      "\n",
      "\n",
      "Area Under the Curve (AUC): 97.11%\n",
      "\n",
      "\n",
      "               precision    recall  f1-score   support\n",
      "\n",
      "           0       1.00      0.94      0.97      1263\n",
      "           1       0.94      1.00      0.97      1175\n",
      "\n",
      "    accuracy                           0.97      2438\n",
      "   macro avg       0.97      0.97      0.97      2438\n",
      "weighted avg       0.97      0.97      0.97      2438\n",
      " \n",
      "\n",
      "Confusion Matrix: \n"
     ]
    },
    {
     "data": {
      "image/png": "[encoded data removed]",
      "text/plain": [
       "<Figure size 504x504 with 2 Axes>"
      ]
     },
     "metadata": {},
     "output_type": "display_data"
    }
   ],
   "source": [
    "y_pred_knn = grid_knn_fit.predict(X_test)\n",
    "\n",
    "y_pred_prob_knn = grid_knn_fit.predict_proba(X_test)[::,1]\n",
    "\n",
    "print(\"Best score for KNN : \", grid_knn_fit.best_score_)\n",
    "evaluate_model(y_test, y_pred_knn, y_pred_prob_knn)"
   ]
  },
  {
   "cell_type": "markdown",
   "id": "66b41b42",
   "metadata": {},
   "source": [
    "    With GridSearchCV the optimum(k=2) KNN model performance is almost the same as what we ran with k=3 except for the AUC score which decreased from 99.91% to 97.11%\n",
    "    \n",
    "Will try ensemble learning method now."
   ]
  },
  {
   "cell_type": "markdown",
   "id": "611f3152",
   "metadata": {},
   "source": [
    "## Model 3: Random Forest"
   ]
  },
  {
   "cell_type": "markdown",
   "id": "7171f8ec",
   "metadata": {},
   "source": [
    "**Tune Model**"
   ]
  },
  {
   "cell_type": "code",
   "execution_count": 279,
   "id": "0049a40f",
   "metadata": {},
   "outputs": [
    {
     "name": "stdout",
     "output_type": "stream",
     "text": [
      "Best score for RF :  0.985050681947573\n",
      "\n",
      "\n",
      "Area Under the Curve (AUC): 99.91%\n",
      "\n",
      "\n",
      "               precision    recall  f1-score   support\n",
      "\n",
      "           0       0.97      1.00      0.99      1263\n",
      "           1       1.00      0.97      0.98      1175\n",
      "\n",
      "    accuracy                           0.99      2438\n",
      "   macro avg       0.99      0.99      0.99      2438\n",
      "weighted avg       0.99      0.99      0.99      2438\n",
      " \n",
      "\n",
      "Confusion Matrix: \n"
     ]
    },
    {
     "data": {
      "image/png": "[encoded data removed]",
      "text/plain": [
       "<Figure size 504x504 with 2 Axes>"
      ]
     },
     "metadata": {},
     "output_type": "display_data"
    }
   ],
   "source": [
    "# Defining parameters for GridSearch of best Random Forest model\n",
    "rf_params = {\n",
    "        'max_features': [\"auto\", \"sqrt\", \"log2\"],\n",
    "        'n_estimators': [300, 500, 700, 1000]\n",
    "        }\n",
    "\n",
    "# Using 10-fold CV to grid search best RF model\n",
    "rf_grid_model = GridSearchCV(rf = RandomForestClassifier(random_state=25), rf_params, cv= 10, n_jobs= -1)\n",
    "rf_grid_model.fit(X_train,y_train)\n",
    "\n",
    "y_pred_rf = rf_grid_model.predict(X_test)\n",
    "\n",
    "y_pred_prob_rf = rf_grid_model.predict_proba(X_test)[::,1]\n",
    "\n",
    "print(\"Best score for RF : \", rf_grid_model.best_score_)\n",
    "\n",
    "evaluate_model(y_test, y_pred_rf, y_pred_prob_rf)"
   ]
  },
  {
   "cell_type": "markdown",
   "id": "6829d3a7",
   "metadata": {},
   "source": [
    "    Random Forest model did well with accuracy score of 99% and auc score of 99.91%\n",
    "    The model did as well as the tunes logistic regression model."
   ]
  },
  {
   "cell_type": "code",
   "execution_count": 280,
   "id": "9016f467",
   "metadata": {},
   "outputs": [
    {
     "data": {
      "image/png": "[encoded data removed]",
      "text/plain": [
       "<Figure size 504x504 with 1 Axes>"
      ]
     },
     "metadata": {},
     "output_type": "display_data"
    }
   ],
   "source": [
    "# Visualize which features are the most important \n",
    "\n",
    "# Create pandas series\n",
    "importances = pd.Series(data=rf_grid_model.best_estimator_.feature_importances_,\n",
    "                        index= X.columns)\n",
    "\n",
    "# Sort importances\n",
    "importances_sorted = importances.sort_values()\n",
    "\n",
    "# Draw a horizontal barplot of importances_sorted\n",
    "importances_sorted.plot(kind='barh', color='teal')\n",
    "plt.title('Features Importances')\n",
    "plt.show()"
   ]
  },
  {
   "cell_type": "markdown",
   "id": "e13d2a3d",
   "metadata": {},
   "source": [
    "## Model 3: SVM Classification Model"
   ]
  },
  {
   "cell_type": "code",
   "execution_count": 306,
   "id": "ae7b2d6e",
   "metadata": {},
   "outputs": [
    {
     "name": "stdout",
     "output_type": "stream",
     "text": [
      "Test Accuracy: 98.56%\n",
      "\n",
      "\n",
      "Area Under the Curve (AUC): 99.91%\n",
      "\n",
      "\n",
      "               precision    recall  f1-score   support\n",
      "\n",
      "           0       0.97      1.00      0.99      1263\n",
      "           1       1.00      0.97      0.98      1175\n",
      "\n",
      "    accuracy                           0.99      2438\n",
      "   macro avg       0.99      0.99      0.99      2438\n",
      "weighted avg       0.99      0.99      0.99      2438\n",
      " \n",
      "\n",
      "Confusion Matrix: \n"
     ]
    },
    {
     "data": {
      "image/png": "[encoded data removed]",
      "text/plain": [
       "<Figure size 504x504 with 2 Axes>"
      ]
     },
     "metadata": {},
     "output_type": "display_data"
    }
   ],
   "source": [
    "from sklearn.svm import SVC\n",
    "\n",
    "# Defining paramters for grid search of best SVM \n",
    "\n",
    "grid_svm = {'C': [0.1, 1, 10, 100, 1000],\n",
    "'gamma': [1, 0.1, 0.01, 0.001, 0.0001]}\n",
    "\n",
    "# Using 10-fold CV to find the best SVM\n",
    "svm = GridSearchCV(SVC(random_state=25, probability=True), grid_svm, cv = 10)\n",
    "\n",
    "svm.fit(X_train, y_train)\n",
    "\n",
    "print(\"Test Accuracy: {}%\".format(round(svm.score(X_test, y_test)*100, 2)))\n",
    "\n",
    "y_pred_svm = svm.predict(X_test)\n",
    "y_pred_prob_svm = svm.predict_proba(X_test)[::,1]\n",
    "\n",
    "evaluate_model(y_test, y_pred_svm, y_pred_prob_svm)"
   ]
  },
  {
   "cell_type": "markdown",
   "id": "75dbf425",
   "metadata": {},
   "source": [
    "    SVM did well with accuracy score of 99% and auc score of 99.91%, same as Random Forest Model."
   ]
  },
  {
   "cell_type": "markdown",
   "id": "db527887",
   "metadata": {},
   "source": [
    "## Final Thoughts and Conclusions\n",
    "\n",
    "If you have any doubt whether a mushroom is poisonous or edible, you might just need to do a \"sniff\" test! If the odor is unpleasant, it is almost certainly poisonous. Otherwise, the mushroom is likely safe to eat."
   ]
  },
  {
   "cell_type": "markdown",
   "id": "4e5da9e5",
   "metadata": {},
   "source": [
    "**Which model was the best?**\n",
    "\n",
    "Random Forest Model and SVM Model both performed equally with accuracy of 99% and AUC score of 99.91%\n",
    "Interestingly we achielved the same level of performance my fine tuning Logistic Regression model."
   ]
  },
  {
   "cell_type": "markdown",
   "id": "b90a049f",
   "metadata": {},
   "source": [
    "**How we determined which model is the best.**\n",
    "\n",
    "There are several way to evaluate classification model's performance. Like :\n",
    "    * Precision/Recall\n",
    "    * Accuracy score\n",
    "    * AUC score\n",
    "\n",
    "Considering all these parameters we evaluated our models."
   ]
  },
  {
   "cell_type": "markdown",
   "id": "e2a5aa80",
   "metadata": {},
   "source": [
    "**How we tested for over/under fitting**\n",
    "\n",
    "We have a dataste here which is all categorical features predicting categorical target variable. \n",
    "As there was no continious data variable, we wanted avoid overfitting from the very beginning.\n",
    "Few steps we took as part of preprocessing were:\n",
    "\n",
    "    1. We dropped attributes whose values were fairly distributed across class. \n",
    "    2. After feature selection we generalized the categorical variables wherever possible to avoid overfitting.\n",
    "       Like, classifying various odors under please smell and not pleasant smell.\n",
    "\n",
    "Steps taken while tuning models: \n",
    "\n",
    "    1. Splitting our data into training vs. testing \n",
    "    2. Utilizing a crossfold validation in our grid searches\n",
    "    3. Using ensemble learning models like Random Forest"
   ]
  },
  {
   "cell_type": "markdown",
   "id": "c0f7c714",
   "metadata": {},
   "source": [
    "**Some lessons learned**\n",
    "\n",
    "One large lesson learned is that the exploratory portion of analysis can be instrumental to model-building. For instance, we first conducted the simple label encoder on all our variables in the data set, without any recoding at all. This yielded decent performance, but did not seem to be as performative as it could be. However, we than revisited our \"Part 1\" (EDA) to explore further. We analyzed the feature distribution, separated by class (whereas before we had not separated them). This revealed the single most import indicator of whether a mushroom was edible or poisonous: Odor. Despite there being 9 categories, there was a stark divide between edible and poisonous.\n",
    "\n",
    "This leads to the next lesson learned of the importance of properly recoding variables. Originally, we had used the label encoder on \"odor\" creating 0-8 numeric values. When we ran the correlation matrix, the correlation between odor and class was 0.09, so we did not even include it in our models. After grouping the odors into \"bad\" odors vs \"good\" odors (making the variable binary), the correlation between odor and class jumped way up to 0.97. We then included this variable in our models and had incredible accuracy. "
   ]
  }
 ],
 "metadata": {
  "kernelspec": {
   "display_name": "Python 3 (ipykernel)",
   "language": "python",
   "name": "python3"
  },
  "language_info": {
   "codemirror_mode": {
    "name": "ipython",
    "version": 3
   },
   "file_extension": ".py",
   "mimetype": "text/x-python",
   "name": "python",
   "nbconvert_exporter": "python",
   "pygments_lexer": "ipython3",
   "version": "3.8.10"
  }
 },
 "nbformat": 4,
 "nbformat_minor": 5
}
